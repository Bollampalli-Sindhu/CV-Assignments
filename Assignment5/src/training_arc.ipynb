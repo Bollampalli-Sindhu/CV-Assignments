{
  "nbformat": 4,
  "nbformat_minor": 0,
  "metadata": {
    "colab": {
      "name": "2020201048_training_arc.ipynb",
      "provenance": [],
      "collapsed_sections": [
        "fAHp_Tlil8H8",
        "ZnL1jXf-lzkq"
      ]
    },
    "kernelspec": {
      "display_name": "Python 3",
      "language": "python",
      "name": "python3"
    },
    "language_info": {
      "codemirror_mode": {
        "name": "ipython",
        "version": 3
      },
      "file_extension": ".py",
      "mimetype": "text/x-python",
      "name": "python",
      "nbconvert_exporter": "python",
      "pygments_lexer": "ipython3",
      "version": "3.8.5"
    },
    "accelerator": "GPU"
  },
  "cells": [
    {
      "cell_type": "markdown",
      "metadata": {
        "id": "OAqF8DSw_5TL"
      },
      "source": [
        "# Getting Started Code for [Chunin Exams Food Track- CV'2021](https://www.aicrowd.com/challenges/chunin-exams-food-track-cv-2021) on AIcrowd\n",
        "#### Author : Pulkit Gera"
      ]
    },
    {
      "cell_type": "markdown",
      "metadata": {
        "id": "0H3J2MVK_5TW"
      },
      "source": [
        "## Download Necessary Packages 📚"
      ]
    },
    {
      "cell_type": "code",
      "metadata": {
        "id": "psxJC7EC_5TX",
        "colab": {
          "base_uri": "https://localhost:8080/"
        },
        "outputId": "1b9924f8-2768-4a31-b58f-d0e4c3c1c8a2"
      },
      "source": [
        "!pip3 install aicrowd-cli"
      ],
      "execution_count": null,
      "outputs": [
        {
          "output_type": "stream",
          "text": [
            "Collecting aicrowd-cli\n",
            "\u001b[?25l  Downloading https://files.pythonhosted.org/packages/29/18/2dcc043573e489f6134e4a76644f640874d3fa4d8f3e0593bf54a7c8b53a/aicrowd_cli-0.1.2-py3-none-any.whl (42kB)\n",
            "\u001b[K     |████████████████████████████████| 51kB 6.8MB/s \n",
            "\u001b[?25hCollecting rich<11,>=10.0.0\n",
            "\u001b[?25l  Downloading https://files.pythonhosted.org/packages/1a/da/2a1f064dc620ab47f3f826ae085384084b71ea05c8c21d67f1dfc29189ab/rich-10.1.0-py3-none-any.whl (201kB)\n",
            "\u001b[K     |████████████████████████████████| 204kB 12.0MB/s \n",
            "\u001b[?25hCollecting gitpython<4,>=3.1.12\n",
            "\u001b[?25l  Downloading https://files.pythonhosted.org/packages/a6/99/98019716955ba243657daedd1de8f3a88ca1f5b75057c38e959db22fb87b/GitPython-3.1.14-py3-none-any.whl (159kB)\n",
            "\u001b[K     |████████████████████████████████| 163kB 31.2MB/s \n",
            "\u001b[?25hCollecting tqdm<5,>=4.56.0\n",
            "\u001b[?25l  Downloading https://files.pythonhosted.org/packages/72/8a/34efae5cf9924328a8f34eeb2fdaae14c011462d9f0e3fcded48e1266d1c/tqdm-4.60.0-py2.py3-none-any.whl (75kB)\n",
            "\u001b[K     |████████████████████████████████| 81kB 11.3MB/s \n",
            "\u001b[?25hCollecting requests<3,>=2.25.1\n",
            "\u001b[?25l  Downloading https://files.pythonhosted.org/packages/29/c1/24814557f1d22c56d50280771a17307e6bf87b70727d975fd6b2ce6b014a/requests-2.25.1-py2.py3-none-any.whl (61kB)\n",
            "\u001b[K     |████████████████████████████████| 61kB 9.2MB/s \n",
            "\u001b[?25hRequirement already satisfied: click<8,>=7.1.2 in /usr/local/lib/python3.7/dist-packages (from aicrowd-cli) (7.1.2)\n",
            "Collecting requests-toolbelt<1,>=0.9.1\n",
            "\u001b[?25l  Downloading https://files.pythonhosted.org/packages/60/ef/7681134338fc097acef8d9b2f8abe0458e4d87559c689a8c306d0957ece5/requests_toolbelt-0.9.1-py2.py3-none-any.whl (54kB)\n",
            "\u001b[K     |████████████████████████████████| 61kB 8.9MB/s \n",
            "\u001b[?25hRequirement already satisfied: toml<1,>=0.10.2 in /usr/local/lib/python3.7/dist-packages (from aicrowd-cli) (0.10.2)\n",
            "Requirement already satisfied: typing-extensions<4.0.0,>=3.7.4 in /usr/local/lib/python3.7/dist-packages (from rich<11,>=10.0.0->aicrowd-cli) (3.7.4.3)\n",
            "Collecting colorama<0.5.0,>=0.4.0\n",
            "  Downloading https://files.pythonhosted.org/packages/44/98/5b86278fbbf250d239ae0ecb724f8572af1c91f4a11edf4d36a206189440/colorama-0.4.4-py2.py3-none-any.whl\n",
            "Requirement already satisfied: pygments<3.0.0,>=2.6.0 in /usr/local/lib/python3.7/dist-packages (from rich<11,>=10.0.0->aicrowd-cli) (2.6.1)\n",
            "Collecting commonmark<0.10.0,>=0.9.0\n",
            "\u001b[?25l  Downloading https://files.pythonhosted.org/packages/b1/92/dfd892312d822f36c55366118b95d914e5f16de11044a27cf10a7d71bbbf/commonmark-0.9.1-py2.py3-none-any.whl (51kB)\n",
            "\u001b[K     |████████████████████████████████| 51kB 7.5MB/s \n",
            "\u001b[?25hCollecting gitdb<5,>=4.0.1\n",
            "\u001b[?25l  Downloading https://files.pythonhosted.org/packages/ea/e8/f414d1a4f0bbc668ed441f74f44c116d9816833a48bf81d22b697090dba8/gitdb-4.0.7-py3-none-any.whl (63kB)\n",
            "\u001b[K     |████████████████████████████████| 71kB 10.2MB/s \n",
            "\u001b[?25hRequirement already satisfied: chardet<5,>=3.0.2 in /usr/local/lib/python3.7/dist-packages (from requests<3,>=2.25.1->aicrowd-cli) (3.0.4)\n",
            "Requirement already satisfied: idna<3,>=2.5 in /usr/local/lib/python3.7/dist-packages (from requests<3,>=2.25.1->aicrowd-cli) (2.10)\n",
            "Requirement already satisfied: urllib3<1.27,>=1.21.1 in /usr/local/lib/python3.7/dist-packages (from requests<3,>=2.25.1->aicrowd-cli) (1.24.3)\n",
            "Requirement already satisfied: certifi>=2017.4.17 in /usr/local/lib/python3.7/dist-packages (from requests<3,>=2.25.1->aicrowd-cli) (2020.12.5)\n",
            "Collecting smmap<5,>=3.0.1\n",
            "  Downloading https://files.pythonhosted.org/packages/68/ee/d540eb5e5996eb81c26ceffac6ee49041d473bc5125f2aa995cf51ec1cf1/smmap-4.0.0-py2.py3-none-any.whl\n",
            "\u001b[31mERROR: google-colab 1.0.0 has requirement requests~=2.23.0, but you'll have requests 2.25.1 which is incompatible.\u001b[0m\n",
            "\u001b[31mERROR: datascience 0.10.6 has requirement folium==0.2.1, but you'll have folium 0.8.3 which is incompatible.\u001b[0m\n",
            "Installing collected packages: colorama, commonmark, rich, smmap, gitdb, gitpython, tqdm, requests, requests-toolbelt, aicrowd-cli\n",
            "  Found existing installation: tqdm 4.41.1\n",
            "    Uninstalling tqdm-4.41.1:\n",
            "      Successfully uninstalled tqdm-4.41.1\n",
            "  Found existing installation: requests 2.23.0\n",
            "    Uninstalling requests-2.23.0:\n",
            "      Successfully uninstalled requests-2.23.0\n",
            "Successfully installed aicrowd-cli-0.1.2 colorama-0.4.4 commonmark-0.9.1 gitdb-4.0.7 gitpython-3.1.14 requests-2.25.1 requests-toolbelt-0.9.1 rich-10.1.0 smmap-4.0.0 tqdm-4.60.0\n"
          ],
          "name": "stdout"
        }
      ]
    },
    {
      "cell_type": "markdown",
      "metadata": {
        "id": "D5L6NxEe_5TZ"
      },
      "source": [
        "## Download Data\n",
        "The first step is to download out train test data. We will be training a model on the train data and make predictions on test data. We submit our predictions.\n"
      ]
    },
    {
      "cell_type": "code",
      "metadata": {
        "colab": {
          "base_uri": "https://localhost:8080/"
        },
        "id": "lyF9gbdx_5TZ",
        "outputId": "27cf1a39-ab59-4b90-8153-c38313bbcbfe"
      },
      "source": [
        "API_KEY = \"fd1aed7204268f0bae2780fb808a4063\" #Please enter your API Key from [https://www.aicrowd.com/participants/me]\n",
        "!aicrowd login --api-key $API_KEY"
      ],
      "execution_count": 6,
      "outputs": [
        {
          "output_type": "stream",
          "text": [
            "/bin/bash: aicrowd: command not found\n"
          ],
          "name": "stdout"
        }
      ]
    },
    {
      "cell_type": "code",
      "metadata": {
        "id": "VkfgD-xrpwsp",
        "colab": {
          "base_uri": "https://localhost:8080/"
        },
        "outputId": "65e95d78-3114-4a60-9f68-0afc185cee98"
      },
      "source": [
        "from google.colab import drive\n",
        "drive.mount('/content/drive')"
      ],
      "execution_count": 3,
      "outputs": [
        {
          "output_type": "stream",
          "text": [
            "Mounted at /content/drive\n"
          ],
          "name": "stdout"
        }
      ]
    },
    {
      "cell_type": "code",
      "metadata": {
        "id": "hx8pHTHZ_5Ta"
      },
      "source": [
        "# !aicrowd dataset download --challenge chunin-exams-food-track-cv-2021"
      ],
      "execution_count": 8,
      "outputs": []
    },
    {
      "cell_type": "code",
      "metadata": {
        "id": "zaOJUEOppr_9"
      },
      "source": [
        "import os\n",
        "import csv\n",
        "import numpy as np\n",
        "import matplotlib.pyplot as plt\n",
        "\n",
        "import pandas as pd\n",
        "from cv2 import cv2\n",
        "from sklearn.model_selection import train_test_split\n",
        "\n",
        "import keras\n",
        "from keras.models import Sequential\n",
        "from keras.layers import Conv2D, MaxPooling2D, BatchNormalization\n",
        "from keras.layers import Activation, Dropout, Flatten, Dense,LeakyReLU\n",
        "from keras.preprocessing.image import ImageDataGenerator\n",
        "from keras.utils import to_categorical\n",
        "from IPython.display import clear_output"
      ],
      "execution_count": 1,
      "outputs": []
    },
    {
      "cell_type": "markdown",
      "metadata": {
        "id": "kV3xnW4Ypr_-"
      },
      "source": [
        "### Reading Dataset "
      ]
    },
    {
      "cell_type": "code",
      "metadata": {
        "id": "rK5AkKWDpr_-"
      },
      "source": [
        "\n",
        "def resize(image,dim=(150,150)):\n",
        "    return cv2.resize(image, dim, interpolation = cv2.INTER_AREA)\n",
        "\n",
        "def load_dataset(folder, csv_file  ):\n",
        "    \n",
        "    mydic = {}\n",
        "    with open(csv_file, mode='r') as infile:\n",
        "        reader = csv.reader(infile)\n",
        "        mydict = {rows[0]:rows[1] for rows in reader}\n",
        "    \n",
        "    y_train = []\n",
        "    x_train = []\n",
        "    count = 1500\n",
        "    for file in os.listdir(folder):\n",
        "        if True:\n",
        "          try:\n",
        "            # print(file)\n",
        "            y_train.append((mydict[file]))\n",
        "            x_train.append(resize(cv2.imread(folder+'/'+file)))\n",
        "            count -= 1\n",
        "          except KeyError:\n",
        "            continue\n",
        "          \n",
        "    # print(\"done\") \n",
        "    y_train = pd.DataFrame(y_train).astype('category')[0]\n",
        "    y_train = y_train.cat.codes\n",
        "    return x_train, y_train.to_numpy()\n",
        "\n",
        "def load_testdata(folder):\n",
        "  x_test = []\n",
        "  for file in os.listdir(folder):\n",
        "    print(file)\n",
        "    x_test.append(resize(cv2.imread(folder+'/'+file)))\n",
        "      \n",
        "\n",
        "def label_encode(y):\n",
        "  y = pd.DataFrame(y).astype('category')[0]\n",
        "  y = y.cat.codes\n",
        "  return y.to_numpy()  \n",
        "\n",
        "def get_labels(y_train,y_labels)\n",
        "  for i in range(len(y_train)):\n",
        "    y_train[i] = (y_labels[y_train[i]])"
      ],
      "execution_count": 1,
      "outputs": []
    },
    {
      "cell_type": "code",
      "metadata": {
        "colab": {
          "base_uri": "https://localhost:8080/"
        },
        "id": "e3kpzUgbpr_-",
        "outputId": "6137c2b6-4f60-44dd-a5a8-61e547953c1f"
      },
      "source": [
        "X,y = load_dataset('/content/drive/MyDrive/Assignment5/train_images','/content/drive/MyDrive/Assignment5/train.csv')\n",
        "labels = np.unique(y)\n",
        "y = label_encode(y)"
      ],
      "execution_count": 5,
      "outputs": [
        {
          "output_type": "stream",
          "text": [
            "done\n"
          ],
          "name": "stdout"
        }
      ]
    },
    {
      "cell_type": "code",
      "metadata": {
        "id": "p3H0iW3KGjfV"
      },
      "source": [
        "# X1,x_val,y1,y_val = train_test_split(X, y, test_size=0.15,random_state=7)\n",
        "x_train,x_test,y_train,y_test = train_test_split(X, y, test_size=0.15,random_state=7)"
      ],
      "execution_count": 38,
      "outputs": []
    },
    {
      "cell_type": "code",
      "metadata": {
        "id": "wi-_i51vpr__"
      },
      "source": [
        "def change_color(image):\n",
        "    image = np.array(image)\n",
        "    hsv_image = cv2.cvtColor(image,cv2.COLOR_RGB2HSV)\n",
        "    return Image.fromarray(hsv_image)\n",
        "\n",
        "datagen = ImageDataGenerator(\n",
        "    featurewise_center=True,\n",
        "    featurewise_std_normalization=True,\n",
        "    rotation_range=20,\n",
        "    width_shift_range=0.2,\n",
        "    height_shift_range=0.2,\n",
        "    horizontal_flip=True,\n",
        "    )\n",
        "\n",
        "datagen.fit(x_train)\n",
        "\n"
      ],
      "execution_count": 39,
      "outputs": []
    },
    {
      "cell_type": "code",
      "metadata": {
        "id": "rMJbW4_jpr__"
      },
      "source": [
        "def get_model(opt='adam', dim = 32, batchNormalize = False, weight_initialization='glorot_normal',epochs = 5):\n",
        "    model = Sequential()\n",
        "    \n",
        "    model.add(Conv2D(dim, (3, 3), activation='relu', kernel_initializer=weight_initialization, padding='same', input_shape=(150, 150, 3)))\n",
        "    model.add(MaxPooling2D(2, 2))\n",
        "    if batchNormalize:\n",
        "      model.add(BatchNormalization())\n",
        "    model.add(Dropout(0.5))\n",
        "    \n",
        "    model.add(Conv2D(dim, (3, 3), activation='relu', kernel_initializer=weight_initialization, padding='same'))\n",
        "    model.add(MaxPooling2D(2, 2))\n",
        "    if batchNormalize:\n",
        "      model.add(BatchNormalization())\n",
        "    model.add(Dropout(0.6))\n",
        "    \n",
        "    model.add(Flatten())\n",
        "    model.add(Dense(100, activation='relu', kernel_initializer='he_uniform'))\n",
        "    model.add(Dense(61, activation='softmax'))\n",
        "    keras.optimizers.RMSprop\n",
        "\n",
        "    model.compile(optimizer=opt, loss='categorical_crossentropy', metrics=['accuracy'])\n",
        "\n",
        "    history = model.fit(datagen.flow(x_train, y_train1, batch_size=32),steps_per_epoch=len(x_train) / 32, validation_data=(x_test[0:100], y_test1[0:100]), epochs = epochs)\n",
        "    acc = model.history.history['accuracy']\n",
        "    train_loss = model.history.history['loss']\n",
        "    test_loss = model.history.history['val_loss']\n",
        "    \n",
        "    return model,[acc,train_loss,test_loss]\n",
        "\n",
        "  "
      ],
      "execution_count": 40,
      "outputs": []
    },
    {
      "cell_type": "code",
      "metadata": {
        "id": "bhc9hmszZrac"
      },
      "source": [
        "x_train = np.array(x_train)\n",
        "x_test  = np.array(x_test)"
      ],
      "execution_count": 41,
      "outputs": []
    },
    {
      "cell_type": "code",
      "metadata": {
        "colab": {
          "base_uri": "https://localhost:8080/"
        },
        "id": "YasZndT8BA5y",
        "outputId": "538fc3cc-c71d-4478-96a5-5066c2927f3d"
      },
      "source": [
        "print(x_train.shape)\n",
        "print(x_test.shape)"
      ],
      "execution_count": 42,
      "outputs": [
        {
          "output_type": "stream",
          "text": [
            "(1275, 150, 150, 3)\n",
            "(225, 150, 150, 3)\n"
          ],
          "name": "stdout"
        }
      ]
    },
    {
      "cell_type": "code",
      "metadata": {
        "id": "uaNOiD9jEftE"
      },
      "source": [
        "y_train1 = to_categorical(y_train)\n",
        "y_test1 = to_categorical(y_test)"
      ],
      "execution_count": 43,
      "outputs": []
    },
    {
      "cell_type": "markdown",
      "metadata": {
        "id": "flHNZ6MGZs3F"
      },
      "source": [
        "### Experimenting with different parameters"
      ]
    },
    {
      "cell_type": "markdown",
      "metadata": {
        "id": "7Jwqtag8wy-h"
      },
      "source": [
        "#### Experimenting with different Optimizers"
      ]
    },
    {
      "cell_type": "markdown",
      "metadata": {
        "id": "MhpgWVAElurB"
      },
      "source": [
        "##### Adam"
      ]
    },
    {
      "cell_type": "code",
      "metadata": {
        "colab": {
          "base_uri": "https://localhost:8080/"
        },
        "id": "HajROr4iX_RP",
        "outputId": "bcdd20f4-4edf-423c-93b7-a5ce1e89c17a"
      },
      "source": [
        "#### weight initialization - xavier\n",
        "model1,res = get_model('adam',weight_initialization='glorot_normal')\n"
      ],
      "execution_count": null,
      "outputs": [
        {
          "output_type": "stream",
          "text": [
            "----------- EPOCH 5 -----------\n",
            "39/39 [==============================] - 6s 159ms/step - loss: 3.7326 - accuracy: 0.1082 - val_loss: 10.6766 - val_accuracy: 0.1000\n"
          ],
          "name": "stdout"
        }
      ]
    },
    {
      "cell_type": "code",
      "metadata": {
        "colab": {
          "base_uri": "https://localhost:8080/"
        },
        "id": "0c1S-O849AJ6",
        "outputId": "bee57c88-ab8d-4daf-9a49-9b271acd826f"
      },
      "source": [
        "#### weight initialization - uniform\n",
        "model2,res2 = get_model('adam',weight_initialization='uniform')\n"
      ],
      "execution_count": null,
      "outputs": [
        {
          "output_type": "stream",
          "text": [
            "----------- EPOCH 5 -----------\n",
            "39/39 [==============================] - 6s 160ms/step - loss: 3.3607 - accuracy: 0.2024 - val_loss: 96.1627 - val_accuracy: 0.1100\n"
          ],
          "name": "stdout"
        }
      ]
    },
    {
      "cell_type": "code",
      "metadata": {
        "colab": {
          "base_uri": "https://localhost:8080/"
        },
        "id": "PEjsNRVY9ASd",
        "outputId": "b0e1c1a3-52b6-42cc-b0b4-9caedc06f207"
      },
      "source": [
        "#### weight initialization - normal\n",
        "model3,res3 = get_model('adam',weight_initialization='normal')\n"
      ],
      "execution_count": null,
      "outputs": [
        {
          "output_type": "stream",
          "text": [
            "----------- EPOCH 5 -----------\n",
            "39/39 [==============================] - 6s 160ms/step - loss: 3.3421 - accuracy: 0.2024 - val_loss: 94.3146 - val_accuracy: 0.2100\n"
          ],
          "name": "stdout"
        }
      ]
    },
    {
      "cell_type": "code",
      "metadata": {
        "colab": {
          "base_uri": "https://localhost:8080/",
          "height": 295
        },
        "id": "yxlM8NgM6Ri-",
        "outputId": "7b16f9ab-d030-4699-87c7-dbc213bcb8c7"
      },
      "source": [
        "#### train loss vs epoch\n",
        "plt.plot( range(1,6),res[1], '-o',label=\"Xavier\") \n",
        "plt.plot( range(1,6),res2[1], '-o',label=\"Uniform\") \n",
        "plt.plot( range(1,6),res3[1], '-o',label=\"Normal\") \n",
        "plt.title( 'Train Loss vs epoch' ) \n",
        "plt.xlabel( 'Epoch' ) \n",
        "plt.ylabel( 'Loss' ) \n",
        "plt.legend(loc = 'best')\n",
        "plt.show() "
      ],
      "execution_count": null,
      "outputs": [
        {
          "output_type": "display_data",
          "data": {
            "image/png": "[encoded data removed]",
            "text/plain": [
              "<Figure size 432x288 with 1 Axes>"
            ]
          },
          "metadata": {
            "tags": [],
            "needs_background": "light"
          }
        }
      ]
    },
    {
      "cell_type": "code",
      "metadata": {
        "colab": {
          "base_uri": "https://localhost:8080/",
          "height": 295
        },
        "id": "HdwJvBpl6iwm",
        "outputId": "b94be8ef-a620-4dd9-8d78-98cddd558c52"
      },
      "source": [
        "#### test loss vs epoch\n",
        "plt.plot( range(1,6),res[2], '-o',label=\"Xavier\") \n",
        "plt.plot( range(1,6),res2[2], '-o',label=\"Uniform\") \n",
        "plt.plot( range(1,6),res3[2], '-o',label=\"Normal\") \n",
        "plt.title( 'test Loss vs epoch' ) \n",
        "plt.xlabel( 'Epoch' ) \n",
        "plt.ylabel( 'Loss' ) \n",
        "plt.legend(loc = 'best')\n",
        "plt.show() "
      ],
      "execution_count": null,
      "outputs": [
        {
          "output_type": "display_data",
          "data": {
            "image/png": "[encoded data removed]",
            "text/plain": [
              "<Figure size 432x288 with 1 Axes>"
            ]
          },
          "metadata": {
            "tags": [],
            "needs_background": "light"
          }
        }
      ]
    },
    {
      "cell_type": "code",
      "metadata": {
        "colab": {
          "base_uri": "https://localhost:8080/",
          "height": 295
        },
        "id": "VoJ-2Sb76qsn",
        "outputId": "0aef7e96-a3fa-4a94-e944-536794ae19ce"
      },
      "source": [
        "#### Accuracy vs epoch\n",
        "plt.plot( range(1,6),res[0], '-o',label=\"Xavier\") \n",
        "plt.plot( range(1,6),res2[0], '-o',label=\"Uniform\") \n",
        "plt.plot( range(1,6),res3[0], '-o',label=\"Normal\") \n",
        "plt.title( 'Accuracy vs epoch' ) \n",
        "plt.xlabel( 'Epoch' ) \n",
        "plt.ylabel( 'Accuracy' ) \n",
        "plt.legend(loc = 'best')\n",
        "plt.show() "
      ],
      "execution_count": null,
      "outputs": [
        {
          "output_type": "display_data",
          "data": {
            "image/png": "[encoded data removed]",
            "text/plain": [
              "<Figure size 432x288 with 1 Axes>"
            ]
          },
          "metadata": {
            "tags": [],
            "needs_background": "light"
          }
        }
      ]
    },
    {
      "cell_type": "markdown",
      "metadata": {
        "id": "fAHp_Tlil8H8"
      },
      "source": [
        "##### RMSprop"
      ]
    },
    {
      "cell_type": "code",
      "metadata": {
        "colab": {
          "base_uri": "https://localhost:8080/"
        },
        "id": "ygvIujwsmFPw",
        "outputId": "5bb68446-4c38-4227-f100-45ebb37dea14"
      },
      "source": [
        "#### weight initialization - xavier\n",
        "model1,res = get_model(keras.optimizers.RMSprop(),weight_initialization='glorot_normal')\n"
      ],
      "execution_count": null,
      "outputs": [
        {
          "output_type": "stream",
          "text": [
            "Epoch 1/5\n",
            "39/39 [==============================] - 7s 161ms/step - loss: 7.8249 - accuracy: 0.0692 - val_loss: 18.3833 - val_accuracy: 0.0900\n",
            "Epoch 2/5\n",
            "39/39 [==============================] - 6s 158ms/step - loss: 3.7966 - accuracy: 0.1367 - val_loss: 33.1073 - val_accuracy: 0.1000\n",
            "Epoch 3/5\n",
            "39/39 [==============================] - 6s 158ms/step - loss: 3.6395 - accuracy: 0.1570 - val_loss: 87.6078 - val_accuracy: 0.1000\n",
            "Epoch 4/5\n",
            "39/39 [==============================] - 6s 159ms/step - loss: 3.5481 - accuracy: 0.1895 - val_loss: 96.7425 - val_accuracy: 0.1000\n",
            "Epoch 5/5\n",
            "39/39 [==============================] - 6s 156ms/step - loss: 3.3986 - accuracy: 0.1963 - val_loss: 102.5398 - val_accuracy: 0.1000\n"
          ],
          "name": "stdout"
        }
      ]
    },
    {
      "cell_type": "code",
      "metadata": {
        "colab": {
          "base_uri": "https://localhost:8080/"
        },
        "id": "Aai7CRZA9Iwc",
        "outputId": "6c8ac723-5355-4281-c4a3-572b5d3e9232"
      },
      "source": [
        "#### weight initialization - uniform\n",
        "model2,res2 = get_model(keras.optimizers.RMSprop(),weight_initialization='uniform')\n"
      ],
      "execution_count": null,
      "outputs": [
        {
          "output_type": "stream",
          "text": [
            "Epoch 1/5\n",
            "39/39 [==============================] - 7s 161ms/step - loss: 4.4114 - accuracy: 0.0759 - val_loss: 78.0217 - val_accuracy: 0.0900\n",
            "Epoch 2/5\n",
            "39/39 [==============================] - 6s 157ms/step - loss: 3.7433 - accuracy: 0.1355 - val_loss: 194.8403 - val_accuracy: 0.0600\n",
            "Epoch 3/5\n",
            "39/39 [==============================] - 6s 157ms/step - loss: 3.5365 - accuracy: 0.1617 - val_loss: 122.4563 - val_accuracy: 0.1200\n",
            "Epoch 4/5\n",
            "39/39 [==============================] - 6s 156ms/step - loss: 3.4597 - accuracy: 0.1721 - val_loss: 147.1982 - val_accuracy: 0.1500\n",
            "Epoch 5/5\n",
            "39/39 [==============================] - 6s 157ms/step - loss: 3.2968 - accuracy: 0.1839 - val_loss: 155.4440 - val_accuracy: 0.1300\n"
          ],
          "name": "stdout"
        }
      ]
    },
    {
      "cell_type": "code",
      "metadata": {
        "colab": {
          "base_uri": "https://localhost:8080/"
        },
        "id": "sEmuSJSm9I2Z",
        "outputId": "32853905-2fc3-4d09-f8c7-830e7e49a0e3"
      },
      "source": [
        "#### weight initialization - normal\n",
        "model3,res3 = get_model(keras.optimizers.RMSprop(),weight_initialization='normal')\n"
      ],
      "execution_count": null,
      "outputs": [
        {
          "output_type": "stream",
          "text": [
            "Epoch 1/5\n",
            "39/39 [==============================] - 7s 162ms/step - loss: 4.9686 - accuracy: 0.0901 - val_loss: 6.3344 - val_accuracy: 0.1700\n",
            "Epoch 2/5\n",
            "39/39 [==============================] - 6s 158ms/step - loss: 3.6740 - accuracy: 0.1458 - val_loss: 24.3767 - val_accuracy: 0.1000\n",
            "Epoch 3/5\n",
            "39/39 [==============================] - 6s 159ms/step - loss: 3.5466 - accuracy: 0.1651 - val_loss: 21.5988 - val_accuracy: 0.1200\n",
            "Epoch 4/5\n",
            "39/39 [==============================] - 6s 158ms/step - loss: 3.4449 - accuracy: 0.1747 - val_loss: 33.1219 - val_accuracy: 0.2000\n",
            "Epoch 5/5\n",
            "39/39 [==============================] - 6s 158ms/step - loss: 3.2808 - accuracy: 0.1986 - val_loss: 26.2739 - val_accuracy: 0.1500\n"
          ],
          "name": "stdout"
        }
      ]
    },
    {
      "cell_type": "code",
      "metadata": {
        "colab": {
          "base_uri": "https://localhost:8080/",
          "height": 295
        },
        "id": "JiVmqpwfmcwZ",
        "outputId": "0c80b60d-9829-4903-f052-b7e45edf6de4"
      },
      "source": [
        "#### train loss vs epoch\n",
        "plt.plot( range(1,6),res[1], '-o',label=\"Xavier\") \n",
        "plt.plot( range(1,6),res2[1], '-o',label=\"Uniform\") \n",
        "plt.plot( range(1,6),res3[1], '-o',label=\"Normal\") \n",
        "plt.title( 'Train Loss vs epoch' ) \n",
        "plt.xlabel( 'Epoch' ) \n",
        "plt.ylabel( 'Loss' ) \n",
        "plt.legend(loc = 'best')\n",
        "plt.show() "
      ],
      "execution_count": null,
      "outputs": [
        {
          "output_type": "display_data",
          "data": {
            "image/png": "[encoded data removed]",
            "text/plain": [
              "<Figure size 432x288 with 1 Axes>"
            ]
          },
          "metadata": {
            "tags": [],
            "needs_background": "light"
          }
        }
      ]
    },
    {
      "cell_type": "code",
      "metadata": {
        "colab": {
          "base_uri": "https://localhost:8080/",
          "height": 295
        },
        "id": "zXFTXpAL7DEU",
        "outputId": "c49cc209-e2ce-45c9-e750-60afc513341a"
      },
      "source": [
        "#### test loss vs epoch\n",
        "plt.plot( range(1,6),res[2], '-o',label=\"Xavier\") \n",
        "plt.plot( range(1,6),res2[2], '-o',label=\"Uniform\") \n",
        "plt.plot( range(1,6),res3[2], '-o',label=\"Normal\") \n",
        "plt.title( 'test Loss vs epoch' ) \n",
        "plt.xlabel( 'Epoch' ) \n",
        "plt.ylabel( 'Loss' ) \n",
        "plt.legend(loc = 'best')\n",
        "plt.show() "
      ],
      "execution_count": null,
      "outputs": [
        {
          "output_type": "display_data",
          "data": {
            "image/png": "[encoded data removed]",
            "text/plain": [
              "<Figure size 432x288 with 1 Axes>"
            ]
          },
          "metadata": {
            "tags": [],
            "needs_background": "light"
          }
        }
      ]
    },
    {
      "cell_type": "code",
      "metadata": {
        "colab": {
          "base_uri": "https://localhost:8080/",
          "height": 295
        },
        "id": "RvjPe9E87Fwz",
        "outputId": "3b3479cc-c24f-4761-dccf-ca528164818d"
      },
      "source": [
        "#### Accuracy vs epoch\n",
        "plt.plot( range(1,6),res[0], '-o',label=\"Xavier\") \n",
        "plt.plot( range(1,6),res2[0], '-o',label=\"Uniform\") \n",
        "plt.plot( range(1,6),res3[0], '-o',label=\"Normal\") \n",
        "plt.title( 'Accuracy vs epoch' ) \n",
        "plt.xlabel( 'Epoch' ) \n",
        "plt.ylabel( 'Accuracy' ) \n",
        "plt.legend(loc = 'best')\n",
        "plt.show()"
      ],
      "execution_count": null,
      "outputs": [
        {
          "output_type": "display_data",
          "data": {
            "image/png": "[encoded data removed]",
            "text/plain": [
              "<Figure size 432x288 with 1 Axes>"
            ]
          },
          "metadata": {
            "tags": [],
            "needs_background": "light"
          }
        }
      ]
    },
    {
      "cell_type": "markdown",
      "metadata": {
        "id": "ZnL1jXf-lzkq"
      },
      "source": [
        "##### SGD"
      ]
    },
    {
      "cell_type": "code",
      "metadata": {
        "colab": {
          "base_uri": "https://localhost:8080/"
        },
        "id": "z-54wvZ0mkB_",
        "outputId": "267df542-8304-459d-94d3-6cb4ef572da4"
      },
      "source": [
        "#### weight initialization - xavier\n",
        "model1,res = get_model(keras.optimizers.SGD(lr=0.01, momentum=0.9),weight_initialization='glorot_normal')\n"
      ],
      "execution_count": null,
      "outputs": [
        {
          "output_type": "stream",
          "text": [
            "Epoch 1/5\n",
            "39/39 [==============================] - 7s 163ms/step - loss: 4.0820 - accuracy: 0.0716 - val_loss: 5.6747 - val_accuracy: 0.1100\n",
            "Epoch 2/5\n",
            "39/39 [==============================] - 6s 161ms/step - loss: 3.6521 - accuracy: 0.1546 - val_loss: 17.4671 - val_accuracy: 0.1100\n",
            "Epoch 3/5\n",
            "39/39 [==============================] - 6s 158ms/step - loss: 3.5706 - accuracy: 0.1708 - val_loss: 17.2420 - val_accuracy: 0.1600\n",
            "Epoch 4/5\n",
            "39/39 [==============================] - 6s 158ms/step - loss: 3.4469 - accuracy: 0.1622 - val_loss: 56.7146 - val_accuracy: 0.0800\n",
            "Epoch 5/5\n",
            "39/39 [==============================] - 6s 156ms/step - loss: 3.3251 - accuracy: 0.1814 - val_loss: 20.4161 - val_accuracy: 0.0900\n"
          ],
          "name": "stdout"
        }
      ]
    },
    {
      "cell_type": "code",
      "metadata": {
        "colab": {
          "base_uri": "https://localhost:8080/"
        },
        "id": "UvgQmY189NHM",
        "outputId": "508e0698-9ed5-4abe-f6f9-7cb0696a7d26"
      },
      "source": [
        "#### weight initialization - uniform\n",
        "model2,res2 = get_model(keras.optimizers.SGD(lr=0.01, momentum=0.9),weight_initialization='uniform')\n"
      ],
      "execution_count": null,
      "outputs": [
        {
          "output_type": "stream",
          "text": [
            "Epoch 1/5\n",
            "39/39 [==============================] - 7s 163ms/step - loss: 3.9767 - accuracy: 0.0545 - val_loss: 44.1590 - val_accuracy: 0.0900\n",
            "Epoch 2/5\n",
            "39/39 [==============================] - 6s 159ms/step - loss: 3.7421 - accuracy: 0.1196 - val_loss: 32.3305 - val_accuracy: 0.1200\n",
            "Epoch 3/5\n",
            "39/39 [==============================] - 6s 157ms/step - loss: 3.5891 - accuracy: 0.1573 - val_loss: 32.2443 - val_accuracy: 0.1600\n",
            "Epoch 4/5\n",
            "39/39 [==============================] - 6s 159ms/step - loss: 3.4401 - accuracy: 0.1769 - val_loss: 48.7202 - val_accuracy: 0.0900\n",
            "Epoch 5/5\n",
            "39/39 [==============================] - 6s 158ms/step - loss: 3.4096 - accuracy: 0.1775 - val_loss: 22.9000 - val_accuracy: 0.1000\n"
          ],
          "name": "stdout"
        }
      ]
    },
    {
      "cell_type": "code",
      "metadata": {
        "colab": {
          "base_uri": "https://localhost:8080/"
        },
        "id": "YUfHyN8e9NKZ",
        "outputId": "6557e31a-8ed5-441c-a19a-ed95b0c4999f"
      },
      "source": [
        "#### weight initialization - normal\n",
        "model3,res3 = get_model(keras.optimizers.SGD(lr=0.01, momentum=0.9),weight_initialization='normal')\n"
      ],
      "execution_count": null,
      "outputs": [
        {
          "output_type": "stream",
          "text": [
            "Epoch 1/5\n",
            "39/39 [==============================] - 7s 162ms/step - loss: 4.0091 - accuracy: 0.0677 - val_loss: 13.0857 - val_accuracy: 0.1100\n",
            "Epoch 2/5\n",
            "39/39 [==============================] - 6s 157ms/step - loss: 3.7484 - accuracy: 0.1137 - val_loss: 30.3174 - val_accuracy: 0.1600\n",
            "Epoch 3/5\n",
            "39/39 [==============================] - 6s 158ms/step - loss: 3.5558 - accuracy: 0.1648 - val_loss: 33.7965 - val_accuracy: 0.1200\n",
            "Epoch 4/5\n",
            "39/39 [==============================] - 6s 157ms/step - loss: 3.4632 - accuracy: 0.1630 - val_loss: 89.4259 - val_accuracy: 0.1300\n",
            "Epoch 5/5\n",
            "39/39 [==============================] - 6s 156ms/step - loss: 3.3789 - accuracy: 0.1754 - val_loss: 93.5010 - val_accuracy: 0.1100\n"
          ],
          "name": "stdout"
        }
      ]
    },
    {
      "cell_type": "code",
      "metadata": {
        "colab": {
          "base_uri": "https://localhost:8080/",
          "height": 295
        },
        "id": "Fx_s_I2ymkMj",
        "outputId": "54f3266e-7014-4cd9-c89e-491969abf6c7"
      },
      "source": [
        "#### train loss vs epoch\n",
        "plt.plot( range(1,6),res[1], '-o',label=\"Xavier\") \n",
        "plt.plot( range(1,6),res2[1], '-o',label=\"Uniform\") \n",
        "plt.plot( range(1,6),res3[1], '-o',label=\"Normal\") \n",
        "plt.title( 'Train Loss vs epoch' ) \n",
        "plt.xlabel( 'Epoch' ) \n",
        "plt.ylabel( 'Loss' ) \n",
        "plt.legend(loc = 'best')\n",
        "plt.show() "
      ],
      "execution_count": null,
      "outputs": [
        {
          "output_type": "display_data",
          "data": {
            "image/png": "[encoded data removed]",
            "text/plain": [
              "<Figure size 432x288 with 1 Axes>"
            ]
          },
          "metadata": {
            "tags": [],
            "needs_background": "light"
          }
        }
      ]
    },
    {
      "cell_type": "code",
      "metadata": {
        "colab": {
          "base_uri": "https://localhost:8080/",
          "height": 295
        },
        "id": "_FWMSJjr7bGS",
        "outputId": "8e01e108-5816-4743-d4bc-575b625eb32e"
      },
      "source": [
        "#### test loss vs epoch\n",
        "plt.plot( range(1,6),res[2], '-o',label=\"Xavier\") \n",
        "plt.plot( range(1,6),res2[2], '-o',label=\"Uniform\") \n",
        "plt.plot( range(1,6),res3[2], '-o',label=\"Normal\") \n",
        "plt.title( 'test Loss vs epoch' ) \n",
        "plt.xlabel( 'Epoch' ) \n",
        "plt.ylabel( 'Loss' ) \n",
        "plt.legend(loc = 'best')\n",
        "plt.show() "
      ],
      "execution_count": null,
      "outputs": [
        {
          "output_type": "display_data",
          "data": {
            "image/png": "[encoded data removed]",
            "text/plain": [
              "<Figure size 432x288 with 1 Axes>"
            ]
          },
          "metadata": {
            "tags": [],
            "needs_background": "light"
          }
        }
      ]
    },
    {
      "cell_type": "code",
      "metadata": {
        "colab": {
          "base_uri": "https://localhost:8080/",
          "height": 295
        },
        "id": "lKVahf_W7bfo",
        "outputId": "17e180ca-6248-4696-c2dd-7a4f06bf3a02"
      },
      "source": [
        "#### Accuracy vs epoch\n",
        "plt.plot( range(1,6),res[0], '-o',label=\"Xavier\") \n",
        "plt.plot( range(1,6),res2[0], '-o',label=\"Uniform\") \n",
        "plt.plot( range(1,6),res3[0], '-o',label=\"Normal\") \n",
        "plt.title( 'Accuracy vs epoch' ) \n",
        "plt.xlabel( 'Epoch' ) \n",
        "plt.ylabel( 'Accuracy' ) \n",
        "plt.legend(loc = 'best')\n",
        "plt.show()"
      ],
      "execution_count": null,
      "outputs": [
        {
          "output_type": "display_data",
          "data": {
            "image/png": "[encoded data removed]",
            "text/plain": [
              "<Figure size 432x288 with 1 Axes>"
            ]
          },
          "metadata": {
            "tags": [],
            "needs_background": "light"
          }
        }
      ]
    },
    {
      "cell_type": "markdown",
      "metadata": {
        "id": "3_TFHNLK1IOT"
      },
      "source": [
        "#### Batch Normalization\n",
        "\n",
        "It is used to bring the numerical data to a common scale without distorting its shape. A typical neural network is trained using a collected set of input data called batch. Similarly, the normalizing process in batch normalization takes place in batches, not as a single input.\n",
        "\n",
        "Advantages of Batch Normalization:\n",
        "\n",
        "- Speed Up the Training\n",
        "- Handles internal covariate shift\n",
        "- Smoothens the Loss Function"
      ]
    },
    {
      "cell_type": "code",
      "metadata": {
        "colab": {
          "base_uri": "https://localhost:8080/"
        },
        "id": "CsXu_Ie91-JH",
        "outputId": "66335f34-fbe9-4367-87a9-0fe9af439fb0"
      },
      "source": [
        "#### Adam\n",
        "model1,res = get_model('adam', batchNormalize = True, weight_initialization='glorot_normal')\n"
      ],
      "execution_count": null,
      "outputs": [
        {
          "output_type": "stream",
          "text": [
            "Epoch 1/5\n",
            "39/39 [==============================] - 7s 164ms/step - loss: 6.4707 - accuracy: 0.0630 - val_loss: 114.9321 - val_accuracy: 0.0300\n",
            "Epoch 2/5\n",
            "39/39 [==============================] - 6s 159ms/step - loss: 4.6508 - accuracy: 0.0996 - val_loss: 99.0399 - val_accuracy: 0.0000e+00\n",
            "Epoch 3/5\n",
            "39/39 [==============================] - 6s 160ms/step - loss: 3.9942 - accuracy: 0.1115 - val_loss: 118.8631 - val_accuracy: 0.1000\n",
            "Epoch 4/5\n",
            "39/39 [==============================] - 6s 160ms/step - loss: 3.6724 - accuracy: 0.1323 - val_loss: 244.3827 - val_accuracy: 0.0600\n",
            "Epoch 5/5\n",
            "39/39 [==============================] - 6s 160ms/step - loss: 3.5603 - accuracy: 0.1729 - val_loss: 162.5850 - val_accuracy: 0.0700\n"
          ],
          "name": "stdout"
        }
      ]
    },
    {
      "cell_type": "code",
      "metadata": {
        "colab": {
          "base_uri": "https://localhost:8080/"
        },
        "id": "3QIuwwa59TH_",
        "outputId": "8bdfc2d8-29a5-4900-cc21-e9c936789e07"
      },
      "source": [
        "#### RMSprop\n",
        "model2,res2 = get_model(keras.optimizers.RMSprop(), batchNormalize = True, weight_initialization='glorot_normal')\n"
      ],
      "execution_count": null,
      "outputs": [
        {
          "output_type": "stream",
          "text": [
            "Epoch 1/5\n",
            "39/39 [==============================] - 7s 168ms/step - loss: 7.6200 - accuracy: 0.0570 - val_loss: 172.9933 - val_accuracy: 0.0100\n",
            "Epoch 2/5\n",
            "39/39 [==============================] - 6s 158ms/step - loss: 4.2536 - accuracy: 0.1085 - val_loss: 494.4758 - val_accuracy: 0.0400\n",
            "Epoch 3/5\n",
            "39/39 [==============================] - 6s 159ms/step - loss: 4.0144 - accuracy: 0.1286 - val_loss: 221.8357 - val_accuracy: 0.0700\n",
            "Epoch 4/5\n",
            "39/39 [==============================] - 6s 163ms/step - loss: 3.8547 - accuracy: 0.1573 - val_loss: 638.1219 - val_accuracy: 0.0000e+00\n",
            "Epoch 5/5\n",
            "39/39 [==============================] - 6s 159ms/step - loss: 3.7169 - accuracy: 0.1490 - val_loss: 856.5594 - val_accuracy: 0.0500\n"
          ],
          "name": "stdout"
        }
      ]
    },
    {
      "cell_type": "code",
      "metadata": {
        "colab": {
          "base_uri": "https://localhost:8080/"
        },
        "id": "BKGLlDi09TRe",
        "outputId": "d8008bed-f7e7-4493-c19a-64a440a58a7c"
      },
      "source": [
        "#### SGD\n",
        "model3,res3 = get_model(keras.optimizers.SGD(lr=0.01, momentum=0.9), batchNormalize = True, weight_initialization='glorot_normal')\n"
      ],
      "execution_count": null,
      "outputs": [
        {
          "output_type": "stream",
          "text": [
            "Epoch 1/5\n",
            "39/39 [==============================] - 7s 163ms/step - loss: 6.2118 - accuracy: 0.0326 - val_loss: 5748.3726 - val_accuracy: 0.0900\n",
            "Epoch 2/5\n",
            "39/39 [==============================] - 6s 160ms/step - loss: 3.9953 - accuracy: 0.1383 - val_loss: 1578.5542 - val_accuracy: 0.0900\n",
            "Epoch 3/5\n",
            "39/39 [==============================] - 6s 158ms/step - loss: 3.8593 - accuracy: 0.1201 - val_loss: 1169.1581 - val_accuracy: 0.0900\n",
            "Epoch 4/5\n",
            "39/39 [==============================] - 6s 158ms/step - loss: 3.8331 - accuracy: 0.1190 - val_loss: 876.7316 - val_accuracy: 0.0900\n",
            "Epoch 5/5\n",
            "39/39 [==============================] - 6s 158ms/step - loss: 3.7746 - accuracy: 0.1148 - val_loss: 653.5858 - val_accuracy: 0.0900\n"
          ],
          "name": "stdout"
        }
      ]
    },
    {
      "cell_type": "code",
      "metadata": {
        "colab": {
          "base_uri": "https://localhost:8080/",
          "height": 295
        },
        "id": "1IyfOWd_83Cs",
        "outputId": "1923f274-bb6f-44af-9496-76a4e3619159"
      },
      "source": [
        "#### Accuracy vs epoch\n",
        "plt.plot( range(1,6),res[0], '-o',label=\"Adam\") \n",
        "plt.plot( range(1,6),res2[0], '-o',label=\"RMSprop\") \n",
        "plt.plot( range(1,6),res3[0], '-o',label=\"SGD\") \n",
        "plt.title( 'Accuracy vs epoch' ) \n",
        "plt.xlabel( 'Epoch' ) \n",
        "plt.ylabel( 'Accuracy' ) \n",
        "plt.legend(loc = 'best')\n",
        "plt.show()"
      ],
      "execution_count": null,
      "outputs": [
        {
          "output_type": "display_data",
          "data": {
            "image/png": "[encoded data removed]",
            "text/plain": [
              "<Figure size 432x288 with 1 Axes>"
            ]
          },
          "metadata": {
            "tags": [],
            "needs_background": "light"
          }
        }
      ]
    },
    {
      "cell_type": "markdown",
      "metadata": {
        "id": "EDhqdB2ewMEF"
      },
      "source": [
        "#### Experimenting with number of hidden neurons\n",
        "\n",
        "- Increasing the number of neurons in the hidden layers might improve the accuracy or might not, it really depends on the complexity of the problem that we are trying to solve\n",
        "- This would increases the number of weights in the network, ergo the model complexity. Without a large training set, an increasingly large network is likely to overfit and in turn reduce accuracy on the test data"
      ]
    },
    {
      "cell_type": "code",
      "metadata": {
        "colab": {
          "base_uri": "https://localhost:8080/"
        },
        "id": "34jBppUswckH",
        "outputId": "d8929d3a-f6bd-4bc0-daa2-45eba86042f7"
      },
      "source": [
        "model1,res = get_model(keras.optimizers.RMSprop(), dim = 8, batchNormalize = True, weight_initialization='glorot_normal')\n"
      ],
      "execution_count": 44,
      "outputs": [
        {
          "output_type": "stream",
          "text": [
            "Epoch 1/5\n",
            "39/39 [==============================] - 7s 155ms/step - loss: 5.6530 - accuracy: 0.0576 - val_loss: 92.4124 - val_accuracy: 0.0100\n",
            "Epoch 2/5\n",
            "39/39 [==============================] - 6s 148ms/step - loss: 4.1146 - accuracy: 0.1147 - val_loss: 73.6488 - val_accuracy: 0.0500\n",
            "Epoch 3/5\n",
            "39/39 [==============================] - 6s 149ms/step - loss: 3.7162 - accuracy: 0.1421 - val_loss: 66.2237 - val_accuracy: 0.0500\n",
            "Epoch 4/5\n",
            "39/39 [==============================] - 6s 151ms/step - loss: 3.6822 - accuracy: 0.1286 - val_loss: 215.2775 - val_accuracy: 0.0600\n",
            "Epoch 5/5\n",
            "39/39 [==============================] - 6s 148ms/step - loss: 3.5052 - accuracy: 0.1717 - val_loss: 139.3819 - val_accuracy: 0.0800\n"
          ],
          "name": "stdout"
        }
      ]
    },
    {
      "cell_type": "code",
      "metadata": {
        "id": "5_Q3YZyF-aGX",
        "colab": {
          "base_uri": "https://localhost:8080/"
        },
        "outputId": "892bfaec-a648-4c39-d6e3-4ae48acc0358"
      },
      "source": [
        "model2,res2 = get_model(keras.optimizers.RMSprop(), dim = 16, batchNormalize = True, weight_initialization='glorot_normal')\n"
      ],
      "execution_count": 45,
      "outputs": [
        {
          "output_type": "stream",
          "text": [
            "Epoch 1/5\n",
            "39/39 [==============================] - 7s 156ms/step - loss: 6.2506 - accuracy: 0.0648 - val_loss: 87.2090 - val_accuracy: 0.0400\n",
            "Epoch 2/5\n",
            "39/39 [==============================] - 6s 151ms/step - loss: 4.1917 - accuracy: 0.1205 - val_loss: 179.0945 - val_accuracy: 0.0400\n",
            "Epoch 3/5\n",
            "39/39 [==============================] - 6s 153ms/step - loss: 3.9708 - accuracy: 0.1406 - val_loss: 284.2243 - val_accuracy: 0.0400\n",
            "Epoch 4/5\n",
            "39/39 [==============================] - 6s 154ms/step - loss: 3.8135 - accuracy: 0.1419 - val_loss: 152.8543 - val_accuracy: 0.0200\n",
            "Epoch 5/5\n",
            "39/39 [==============================] - 6s 153ms/step - loss: 3.5106 - accuracy: 0.1631 - val_loss: 355.2156 - val_accuracy: 0.0200\n"
          ],
          "name": "stdout"
        }
      ]
    },
    {
      "cell_type": "code",
      "metadata": {
        "id": "iaCheh1E-kGU",
        "colab": {
          "base_uri": "https://localhost:8080/"
        },
        "outputId": "063e54f4-9e77-459a-ef16-763758e974b2"
      },
      "source": [
        "model3,res3 = get_model(keras.optimizers.RMSprop(), dim = 64, batchNormalize = True, weight_initialization='glorot_normal')\n"
      ],
      "execution_count": 46,
      "outputs": [
        {
          "output_type": "stream",
          "text": [
            "Epoch 1/5\n",
            "39/39 [==============================] - 8s 170ms/step - loss: 13.5032 - accuracy: 0.0622 - val_loss: 554.4725 - val_accuracy: 0.0300\n",
            "Epoch 2/5\n",
            "39/39 [==============================] - 6s 157ms/step - loss: 4.6422 - accuracy: 0.0873 - val_loss: 575.6631 - val_accuracy: 0.0700\n",
            "Epoch 3/5\n",
            "39/39 [==============================] - 6s 159ms/step - loss: 4.1281 - accuracy: 0.1302 - val_loss: 921.8217 - val_accuracy: 0.0500\n",
            "Epoch 4/5\n",
            "39/39 [==============================] - 6s 160ms/step - loss: 4.0997 - accuracy: 0.1254 - val_loss: 1022.0901 - val_accuracy: 0.0400\n",
            "Epoch 5/5\n",
            "39/39 [==============================] - 6s 160ms/step - loss: 3.9829 - accuracy: 0.1261 - val_loss: 1693.1561 - val_accuracy: 0.0800\n"
          ],
          "name": "stdout"
        }
      ]
    },
    {
      "cell_type": "code",
      "metadata": {
        "id": "h_jR-4pO-p96",
        "colab": {
          "base_uri": "https://localhost:8080/",
          "height": 295
        },
        "outputId": "569f1ca0-f6ce-4505-8493-dd7d90fecbc9"
      },
      "source": [
        "#### Accuracy vs epoch\n",
        "plt.plot( range(1,6),res[0], '-o',label=\"Dim = 8\") \n",
        "plt.plot( range(1,6),res2[0], '-o',label=\"Dim = 16\") \n",
        "plt.plot( range(1,6),res3[0], '-o',label=\"Dim = 64\") \n",
        "plt.title( 'Accuracy vs epoch' ) \n",
        "plt.xlabel( 'Epoch' ) \n",
        "plt.ylabel( 'Accuracy' ) \n",
        "plt.legend(loc = 'best')\n",
        "plt.show()"
      ],
      "execution_count": 48,
      "outputs": [
        {
          "output_type": "display_data",
          "data": {
            "image/png": "[encoded data removed]",
            "text/plain": [
              "<Figure size 432x288 with 1 Axes>"
            ]
          },
          "metadata": {
            "tags": [],
            "needs_background": "light"
          }
        }
      ]
    },
    {
      "cell_type": "markdown",
      "metadata": {
        "id": "udJHe7-Smvsj"
      },
      "source": [
        "#### Leaky relu activation"
      ]
    },
    {
      "cell_type": "code",
      "metadata": {
        "id": "W2uAc_BiogZQ"
      },
      "source": [
        "def get_model_lr(opt='adam', dim = 32, batchNormalize = False, weight_initialization='glorot_normal',epochs = 10):\n",
        "    model = Sequential()\n",
        "    \n",
        "    model.add(Conv2D(dim, (3, 3), kernel_initializer=weight_initialization, padding='same', input_shape=(150, 150, 3)))\n",
        "    model.add(LeakyReLU(alpha=0.1))\n",
        "    model.add(MaxPooling2D(2, 2))\n",
        "    if batchNormalize:\n",
        "      model.add(BatchNormalization())\n",
        "    model.add(Dropout(0.5))\n",
        "    \n",
        "    model.add(Conv2D(dim*2, (3, 3), kernel_initializer=weight_initialization, padding='same'))\n",
        "    model.add(LeakyReLU(alpha=0.1))\n",
        "    model.add(MaxPooling2D(2, 2))\n",
        "    if batchNormalize:\n",
        "      model.add(BatchNormalization())\n",
        "    model.add(Dropout(0.5))\n",
        "    \n",
        "    model.add(Flatten())\n",
        "    model.add(Dense(1024, activation='relu', kernel_initializer='he_uniform'))\n",
        "    model.add(Dense(61, activation='softmax'))\n",
        "    keras.optimizers.RMSprop\n",
        "\n",
        "    model.compile(optimizer=opt, loss='categorical_crossentropy', metrics=['accuracy'])\n",
        "    \n",
        "    history = model.fit(datagen.flow(x_train, y_train1, batch_size=32),steps_per_epoch=len(x_train) / 32, validation_data=(x_test[0:100], y_test1[0:100]), epochs = epochs)\n",
        "    acc = model.history.history['accuracy']\n",
        "    train_loss = model.history.history['loss']\n",
        "    test_loss = model.history.history['val_loss']\n",
        "    \n",
        "    return model,[acc,train_loss,test_loss]\n"
      ],
      "execution_count": 51,
      "outputs": []
    },
    {
      "cell_type": "code",
      "metadata": {
        "id": "dXtvpjWNpr__",
        "colab": {
          "base_uri": "https://localhost:8080/"
        },
        "outputId": "ed6edfb8-91f9-447c-eec3-495d3813821f"
      },
      "source": [
        "#### Adam\n",
        "model1,res = get_model_lr('adam', batchNormalize = True, weight_initialization='glorot_normal')"
      ],
      "execution_count": 52,
      "outputs": [
        {
          "output_type": "stream",
          "text": [
            "Epoch 1/10\n",
            "39/39 [==============================] - 7s 173ms/step - loss: 25.2873 - accuracy: 0.0572 - val_loss: 275.1227 - val_accuracy: 0.0000e+00\n",
            "Epoch 2/10\n",
            "39/39 [==============================] - 7s 163ms/step - loss: 15.1296 - accuracy: 0.1434 - val_loss: 484.1981 - val_accuracy: 0.0100\n",
            "Epoch 3/10\n",
            "39/39 [==============================] - 7s 165ms/step - loss: 6.3087 - accuracy: 0.1365 - val_loss: 321.2641 - val_accuracy: 0.0900\n",
            "Epoch 4/10\n",
            "39/39 [==============================] - 7s 166ms/step - loss: 3.5479 - accuracy: 0.2083 - val_loss: 429.5385 - val_accuracy: 0.1200\n",
            "Epoch 5/10\n",
            "39/39 [==============================] - 7s 165ms/step - loss: 3.4444 - accuracy: 0.1941 - val_loss: 370.3118 - val_accuracy: 0.0300\n",
            "Epoch 6/10\n",
            "39/39 [==============================] - 7s 165ms/step - loss: 3.1556 - accuracy: 0.2372 - val_loss: 231.1751 - val_accuracy: 0.0800\n",
            "Epoch 7/10\n",
            "39/39 [==============================] - 7s 164ms/step - loss: 3.0276 - accuracy: 0.2298 - val_loss: 271.3373 - val_accuracy: 0.0400\n",
            "Epoch 8/10\n",
            "39/39 [==============================] - 7s 164ms/step - loss: 2.8885 - accuracy: 0.2644 - val_loss: 551.0715 - val_accuracy: 0.0700\n",
            "Epoch 9/10\n",
            "39/39 [==============================] - 7s 163ms/step - loss: 2.8359 - accuracy: 0.2725 - val_loss: 241.1085 - val_accuracy: 0.0800\n",
            "Epoch 10/10\n",
            "39/39 [==============================] - 7s 165ms/step - loss: 2.7605 - accuracy: 0.2758 - val_loss: 327.0656 - val_accuracy: 0.0500\n"
          ],
          "name": "stdout"
        }
      ]
    },
    {
      "cell_type": "code",
      "metadata": {
        "id": "n3wj3WPN_gPO",
        "colab": {
          "base_uri": "https://localhost:8080/"
        },
        "outputId": "2b06e694-b5ba-46ce-d9ad-e77358b66b29"
      },
      "source": [
        "#### RMSprop\n",
        "model2,res2 = get_model_lr(keras.optimizers.RMSprop(), batchNormalize = True, weight_initialization='glorot_normal')"
      ],
      "execution_count": 53,
      "outputs": [
        {
          "output_type": "stream",
          "text": [
            "Epoch 1/10\n",
            "39/39 [==============================] - 8s 174ms/step - loss: 36.4704 - accuracy: 0.0768 - val_loss: 331.0943 - val_accuracy: 0.0300\n",
            "Epoch 2/10\n",
            "39/39 [==============================] - 7s 172ms/step - loss: 6.5446 - accuracy: 0.1124 - val_loss: 229.6067 - val_accuracy: 0.0900\n",
            "Epoch 3/10\n",
            "39/39 [==============================] - 7s 173ms/step - loss: 4.3960 - accuracy: 0.1389 - val_loss: 117.8146 - val_accuracy: 0.1000\n",
            "Epoch 4/10\n",
            "39/39 [==============================] - 7s 176ms/step - loss: 3.8841 - accuracy: 0.1510 - val_loss: 104.0629 - val_accuracy: 0.1500\n",
            "Epoch 5/10\n",
            "39/39 [==============================] - 7s 170ms/step - loss: 3.6841 - accuracy: 0.1803 - val_loss: 365.3860 - val_accuracy: 0.0700\n",
            "Epoch 6/10\n",
            "39/39 [==============================] - 7s 172ms/step - loss: 3.6127 - accuracy: 0.1623 - val_loss: 417.8860 - val_accuracy: 0.1200\n",
            "Epoch 7/10\n",
            "39/39 [==============================] - 7s 171ms/step - loss: 3.5656 - accuracy: 0.1540 - val_loss: 660.9135 - val_accuracy: 0.0400\n",
            "Epoch 8/10\n",
            "39/39 [==============================] - 7s 171ms/step - loss: 3.4085 - accuracy: 0.1815 - val_loss: 142.7005 - val_accuracy: 0.1100\n",
            "Epoch 9/10\n",
            "39/39 [==============================] - 7s 170ms/step - loss: 3.4097 - accuracy: 0.1982 - val_loss: 147.9280 - val_accuracy: 0.0800\n",
            "Epoch 10/10\n",
            "39/39 [==============================] - 7s 173ms/step - loss: 3.3905 - accuracy: 0.2034 - val_loss: 618.5341 - val_accuracy: 0.0500\n"
          ],
          "name": "stdout"
        }
      ]
    },
    {
      "cell_type": "code",
      "metadata": {
        "id": "KT05BF6t_piA",
        "colab": {
          "base_uri": "https://localhost:8080/"
        },
        "outputId": "f6a64042-e790-4408-d1a8-cc0b1b9f515e"
      },
      "source": [
        "#### SGD\n",
        "model3,res3 = get_model_lr(keras.optimizers.SGD(lr=0.01, momentum=0.9), batchNormalize = True, weight_initialization='glorot_normal')"
      ],
      "execution_count": 54,
      "outputs": [
        {
          "output_type": "stream",
          "text": [
            "Epoch 1/10\n",
            "39/39 [==============================] - 7s 169ms/step - loss: 11.3519 - accuracy: 0.0510 - val_loss: 14724.6611 - val_accuracy: 0.0400\n",
            "Epoch 2/10\n",
            "39/39 [==============================] - 7s 166ms/step - loss: 3.9941 - accuracy: 0.0606 - val_loss: 8362.4766 - val_accuracy: 0.0900\n",
            "Epoch 3/10\n",
            "39/39 [==============================] - 7s 164ms/step - loss: 4.0644 - accuracy: 0.0942 - val_loss: 5757.8994 - val_accuracy: 0.0900\n",
            "Epoch 4/10\n",
            "39/39 [==============================] - 7s 166ms/step - loss: 4.0100 - accuracy: 0.0801 - val_loss: 4783.1128 - val_accuracy: 0.0900\n",
            "Epoch 5/10\n",
            "39/39 [==============================] - 7s 167ms/step - loss: 3.9579 - accuracy: 0.0790 - val_loss: 4310.5278 - val_accuracy: 0.0900\n",
            "Epoch 6/10\n",
            "39/39 [==============================] - 7s 163ms/step - loss: 3.9290 - accuracy: 0.0843 - val_loss: 4049.7688 - val_accuracy: 0.0900\n",
            "Epoch 7/10\n",
            "39/39 [==============================] - 7s 164ms/step - loss: 3.8751 - accuracy: 0.0893 - val_loss: 3875.4851 - val_accuracy: 0.0900\n",
            "Epoch 8/10\n",
            "39/39 [==============================] - 7s 164ms/step - loss: 3.8445 - accuracy: 0.0898 - val_loss: 3768.9377 - val_accuracy: 0.0900\n",
            "Epoch 9/10\n",
            "39/39 [==============================] - 7s 164ms/step - loss: 3.8214 - accuracy: 0.0980 - val_loss: 3710.4763 - val_accuracy: 0.0900\n",
            "Epoch 10/10\n",
            "39/39 [==============================] - 7s 165ms/step - loss: 3.8312 - accuracy: 0.0808 - val_loss: 3671.9932 - val_accuracy: 0.0900\n"
          ],
          "name": "stdout"
        }
      ]
    },
    {
      "cell_type": "code",
      "metadata": {
        "id": "tP1QJSAQ_7Ly",
        "colab": {
          "base_uri": "https://localhost:8080/",
          "height": 295
        },
        "outputId": "49b7f0ff-80ef-42cd-bc49-8dc3c90b7f71"
      },
      "source": [
        "#### Accuracy vs epoch\n",
        "plt.plot( range(1,11),res[0], '-o',label=\"Adam\") \n",
        "plt.plot( range(1,11),res2[0], '-o',label=\"RMSprop\") \n",
        "plt.plot( range(1,11),res3[0], '-o',label=\"SGD\") \n",
        "plt.title( 'Accuracy vs epoch' ) \n",
        "plt.xlabel( 'Epoch' ) \n",
        "plt.ylabel( 'Accuracy' ) \n",
        "plt.legend(loc = 'best')\n",
        "plt.show()"
      ],
      "execution_count": 56,
      "outputs": [
        {
          "output_type": "display_data",
          "data": {
            "image/png": "[encoded data removed]",
            "text/plain": [
              "<Figure size 432x288 with 1 Axes>"
            ]
          },
          "metadata": {
            "tags": [],
            "needs_background": "light"
          }
        }
      ]
    },
    {
      "cell_type": "code",
      "metadata": {
        "id": "chqk3Rk-vqMr"
      },
      "source": [
        ""
      ],
      "execution_count": null,
      "outputs": []
    },
    {
      "cell_type": "markdown",
      "metadata": {
        "id": "PUzpe_dOarmJ"
      },
      "source": [
        "### Final Model\n",
        "\n",
        "From the all the above observation it is clear that the model with following parameters is giving better performance.\n",
        "- 2 hidden that has 32 neurons in each layer \n",
        "- 'Normal' kernel initialization \n",
        "- Adam Optimizer\n",
        "- Batch Normalization"
      ]
    },
    {
      "cell_type": "code",
      "metadata": {
        "id": "qAjejEFW3hqp"
      },
      "source": [
        "model,res = get_model('adam',dim=32,batchNormalize = True, weight_initialization='normal',epochs = 20)"
      ],
      "execution_count": null,
      "outputs": []
    },
    {
      "cell_type": "markdown",
      "metadata": {
        "id": "y-Za2b-bQxHG"
      },
      "source": [
        "## Part 2"
      ]
    },
    {
      "cell_type": "code",
      "metadata": {
        "id": "Hm8yR9sudJlD"
      },
      "source": [
        "X_train,y_train = load_dataset('/content/drive/MyDrive/Assignment5/train_images','/content/drive/MyDrive/Assignment5/train.csv')\n",
        "X_test = load_testdata('/content/drive/MyDrive/Assignment5/test_images')"
      ],
      "execution_count": null,
      "outputs": []
    },
    {
      "cell_type": "code",
      "metadata": {
        "id": "LcEQOtyAy4Mf"
      },
      "source": [
        "labels = (np.unique(y_train))\n",
        "y_train = label_encode(y_train)\n",
        "y_train = to_categorical(y_train)\n"
      ],
      "execution_count": 23,
      "outputs": []
    },
    {
      "cell_type": "markdown",
      "metadata": {
        "id": "YvggZEeAonB-"
      },
      "source": [
        "#### ResNet50"
      ]
    },
    {
      "cell_type": "code",
      "metadata": {
        "colab": {
          "base_uri": "https://localhost:8080/"
        },
        "id": "PHB3WmjZvrY6",
        "outputId": "2dfc4123-1197-4c63-8771-214284740b89"
      },
      "source": [
        "img = Input(shape = (150, 150)+(3,))\n",
        "model = ResNet50(\n",
        "    weights = 'imagenet',include_top = False,\n",
        "    input_tensor = img, pooling = 'max',classes=61)\n",
        "output_layer = Dense(61, activation = 'softmax')(model.layers[-1].output)\n",
        "model = Model(inputs=img, outputs=output_layer)\n",
        "\n",
        "model.compile(optimizer = 'adam',metrics = ['accuracy'], loss = \"sparse_categorical_crossentropy\")\n",
        "model.fit(X_train, y_train, epochs=20, validation_split=0.3) \n"
      ],
      "execution_count": null,
      "outputs": [
        {
          "output_type": "stream",
          "text": [
            "Epoch 1/20\n",
            "204/204 [==============================] - 71s 347ms/step - loss: 2.7403 - accuracy: 0.2884 - val_loss: 3.0704 - val_accuracy: 0.2646\n",
            "Epoch 2/20\n",
            "204/204 [==============================] - 71s 349ms/step - loss: 2.6237 - accuracy: 0.3062 - val_loss: 3.7055 - val_accuracy: 0.1194\n",
            "Epoch 3/20\n",
            "204/204 [==============================] - 72s 351ms/step - loss: 2.5312 - accuracy: 0.3235 - val_loss: 4.2843 - val_accuracy: 0.0883\n",
            "Epoch 4/20\n",
            "204/204 [==============================] - 72s 352ms/step - loss: 2.6729 - accuracy: 0.2979 - val_loss: 3.7927 - val_accuracy: 0.1198\n",
            "Epoch 5/20\n",
            "204/204 [==============================] - 72s 352ms/step - loss: 2.4197 - accuracy: 0.3500 - val_loss: 2.8806 - val_accuracy: 0.2703\n",
            "Epoch 6/20\n",
            "204/204 [==============================] - 72s 352ms/step - loss: 2.2483 - accuracy: 0.3817 - val_loss: 2.6362 - val_accuracy: 0.3085\n",
            "Epoch 7/20\n",
            "204/204 [==============================] - 72s 352ms/step - loss: 2.2358 - accuracy: 0.3950 - val_loss: 3.8049 - val_accuracy: 0.1423\n",
            "Epoch 8/20\n",
            "204/204 [==============================] - 72s 352ms/step - loss: 2.0151 - accuracy: 0.4367 - val_loss: 3.3062 - val_accuracy: 0.3279\n",
            "Epoch 9/20\n",
            "204/204 [==============================] - 72s 352ms/step - loss: 1.7335 - accuracy: 0.5044 - val_loss: 2.4615 - val_accuracy: 0.3565\n",
            "Epoch 10/20\n",
            "204/204 [==============================] - 72s 352ms/step - loss: 1.6457 - accuracy: 0.5219 - val_loss: 2.6282 - val_accuracy: 0.3279\n",
            "Epoch 11/20\n",
            "204/204 [==============================] - 72s 352ms/step - loss: 1.7460 - accuracy: 0.5038 - val_loss: 2.7508 - val_accuracy: 0.3296\n",
            "Epoch 12/20\n",
            "204/204 [==============================] - 72s 352ms/step - loss: 1.4364 - accuracy: 0.5745 - val_loss: 4.3023 - val_accuracy: 0.0997\n",
            "Epoch 13/20\n",
            "204/204 [==============================] - 72s 352ms/step - loss: 1.3014 - accuracy: 0.6128 - val_loss: 2.6845 - val_accuracy: 0.3321\n",
            "Epoch 14/20\n",
            "204/204 [==============================] - 72s 352ms/step - loss: 0.9783 - accuracy: 0.7050 - val_loss: 2.8452 - val_accuracy: 0.3357\n",
            "Epoch 15/20\n",
            "204/204 [==============================] - 72s 352ms/step - loss: 0.7975 - accuracy: 0.7619 - val_loss: 3.7379 - val_accuracy: 0.2757\n",
            "Epoch 16/20\n",
            "204/204 [==============================] - 72s 352ms/step - loss: 0.8205 - accuracy: 0.7576 - val_loss: 3.6816 - val_accuracy: 0.3225\n",
            "Epoch 17/20\n",
            "204/204 [==============================] - 72s 352ms/step - loss: 0.8653 - accuracy: 0.7427 - val_loss: 3.3419 - val_accuracy: 0.2553\n",
            "Epoch 18/20\n",
            "204/204 [==============================] - 72s 352ms/step - loss: 0.8188 - accuracy: 0.7599 - val_loss: 3.5628 - val_accuracy: 0.3386\n",
            "Epoch 19/20\n",
            "204/204 [==============================] - 72s 352ms/step - loss: 1.2621 - accuracy: 0.6329 - val_loss: 3.5494 - val_accuracy: 0.2749\n",
            "Epoch 20/20\n",
            "204/204 [==============================] - 72s 352ms/step - loss: 0.5187 - accuracy: 0.8498 - val_loss: 3.6360 - val_accuracy: 0.3071\n"
          ],
          "name": "stdout"
        }
      ]
    },
    {
      "cell_type": "code",
      "metadata": {
        "colab": {
          "base_uri": "https://localhost:8080/"
        },
        "id": "4E2eM3wYbomA",
        "outputId": "0428e784-5689-45be-d646-e69914eecd20"
      },
      "source": [
        "model.save(\"/content/drive/MyDrive/Assignment5/model\")"
      ],
      "execution_count": 30,
      "outputs": [
        {
          "output_type": "stream",
          "text": [
            "INFO:tensorflow:Assets written to: /content/drive/MyDrive/Assignment5/model/assets\n"
          ],
          "name": "stdout"
        }
      ]
    },
    {
      "cell_type": "code",
      "metadata": {
        "id": "8rl3FcnJaS-R"
      },
      "source": [
        "y_pred = model.predict(np.array(X_test))\n",
        "y_pred = (np.argmax(y_pred, axis = 1))\n",
        "\n",
        "y_pred = get_labels(y_pred,labels)\n"
      ],
      "execution_count": 28,
      "outputs": []
    },
    {
      "cell_type": "code",
      "metadata": {
        "id": "XKhQUEUuagW_"
      },
      "source": [
        "df_regressor = pd.DataFrame(y_pred, columns=['ClassName'])\n",
        "df_regressor.to_csv(\"/content/drive/MyDrive/Assignment5/submission.csv\")"
      ],
      "execution_count": 29,
      "outputs": []
    },
    {
      "cell_type": "code",
      "metadata": {
        "id": "sy2Sn0GaPRFF"
      },
      "source": [
        ""
      ],
      "execution_count": null,
      "outputs": []
    },
    {
      "cell_type": "code",
      "metadata": {
        "id": "DZjaTO4SPRIO"
      },
      "source": [
        ""
      ],
      "execution_count": null,
      "outputs": []
    },
    {
      "cell_type": "code",
      "metadata": {
        "id": "oHNtIAakPRNH"
      },
      "source": [
        ""
      ],
      "execution_count": null,
      "outputs": []
    },
    {
      "cell_type": "code",
      "metadata": {
        "id": "ojtsT3IQPRPm"
      },
      "source": [
        ""
      ],
      "execution_count": null,
      "outputs": []
    },
    {
      "cell_type": "code",
      "metadata": {
        "id": "cgYLOa2jACV3"
      },
      "source": [
        ""
      ],
      "execution_count": null,
      "outputs": []
    },
    {
      "cell_type": "markdown",
      "metadata": {
        "id": "5IX79Ffa_5Te"
      },
      "source": [
        "## Making Direct Submission thought Aicrowd CLI"
      ]
    },
    {
      "cell_type": "code",
      "metadata": {
        "colab": {
          "base_uri": "https://localhost:8080/"
        },
        "id": "-j1W9w4t_5Te",
        "outputId": "c0a9a039-1f79-49f6-9e87-7d7bc8ddc2e2"
      },
      "source": [
        "!aicrowd submission create -c chunin-exams-food-track-cv-2021 -f submission.csv"
      ],
      "execution_count": null,
      "outputs": [
        {
          "output_type": "stream",
          "text": [
            "\u001b[2K\u001b[1;34msubmission.csv\u001b[0m \u001b[90m━━━━━━━━━━━━━━━━━━━━━━\u001b[0m \u001b[35m100.0%\u001b[0m • \u001b[32m13.1/11.5 KB\u001b[0m • \u001b[31m1.4 MB/s\u001b[0m • \u001b[36m0:00:00\u001b[0m\n",
            "\u001b[?25h                                                 ╭─────────────────────────╮                                                  \n",
            "                                                 │ \u001b[1mSuccessfully submitted!\u001b[0m │                                                  \n",
            "                                                 ╰─────────────────────────╯                                                  \n",
            "\u001b[3m                                                       Important links                                                        \u001b[0m\n",
            "┌──────────────────┬─────────────────────────────────────────────────────────────────────────────────────────────────────────┐\n",
            "│  This submission │ https://www.aicrowd.com/challenges/ai-blitz-7/problems/stage-prediction/submissions/125933              │\n",
            "│                  │                                                                                                         │\n",
            "│  All submissions │ https://www.aicrowd.com/challenges/ai-blitz-7/problems/stage-prediction/submissions?my_submissions=true │\n",
            "│                  │                                                                                                         │\n",
            "│      Leaderboard │ https://www.aicrowd.com/challenges/ai-blitz-7/problems/stage-prediction/leaderboards                    │\n",
            "│                  │                                                                                                         │\n",
            "│ Discussion forum │ https://discourse.aicrowd.com/c/ai-blitz-7                                                              │\n",
            "│                  │                                                                                                         │\n",
            "│   Challenge page │ https://www.aicrowd.com/challenges/ai-blitz-7/problems/stage-prediction                                 │\n",
            "└──────────────────┴─────────────────────────────────────────────────────────────────────────────────────────────────────────┘\n",
            "{'submission_id': 125933, 'created_at': '2021-03-12T14:32:25.301Z'}\n"
          ],
          "name": "stdout"
        }
      ]
    }
  ]
}