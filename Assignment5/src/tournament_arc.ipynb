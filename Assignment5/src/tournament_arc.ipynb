{
  "nbformat": 4,
  "nbformat_minor": 0,
  "metadata": {
    "colab": {
      "name": "2020201048_tournament_arc.ipynb",
      "provenance": [],
      "collapsed_sections": []
    },
    "kernelspec": {
      "display_name": "Python 3",
      "language": "python",
      "name": "python3"
    },
    "language_info": {
      "codemirror_mode": {
        "name": "ipython",
        "version": 3
      },
      "file_extension": ".py",
      "mimetype": "text/x-python",
      "name": "python",
      "nbconvert_exporter": "python",
      "pygments_lexer": "ipython3",
      "version": "3.8.5"
    },
    "accelerator": "GPU"
  },
  "cells": [
    {
      "cell_type": "markdown",
      "metadata": {
        "id": "OAqF8DSw_5TL"
      },
      "source": [
        "# Getting Started Code for [Chunin Exams Food Track- CV'2021](https://www.aicrowd.com/challenges/chunin-exams-food-track-cv-2021) on AIcrowd\n",
        "#### Author : Pulkit Gera"
      ]
    },
    {
      "cell_type": "markdown",
      "metadata": {
        "id": "0H3J2MVK_5TW"
      },
      "source": [
        "## Download Necessary Packages 📚"
      ]
    },
    {
      "cell_type": "code",
      "metadata": {
        "id": "psxJC7EC_5TX",
        "colab": {
          "base_uri": "https://localhost:8080/"
        },
        "outputId": "1b9924f8-2768-4a31-b58f-d0e4c3c1c8a2"
      },
      "source": [
        "!pip3 install aicrowd-cli"
      ],
      "execution_count": null,
      "outputs": [
        {
          "output_type": "stream",
          "text": [
            "Collecting aicrowd-cli\n",
            "\u001b[?25l  Downloading https://files.pythonhosted.org/packages/29/18/2dcc043573e489f6134e4a76644f640874d3fa4d8f3e0593bf54a7c8b53a/aicrowd_cli-0.1.2-py3-none-any.whl (42kB)\n",
            "\u001b[K     |████████████████████████████████| 51kB 6.8MB/s \n",
            "\u001b[?25hCollecting rich<11,>=10.0.0\n",
            "\u001b[?25l  Downloading https://files.pythonhosted.org/packages/1a/da/2a1f064dc620ab47f3f826ae085384084b71ea05c8c21d67f1dfc29189ab/rich-10.1.0-py3-none-any.whl (201kB)\n",
            "\u001b[K     |████████████████████████████████| 204kB 12.0MB/s \n",
            "\u001b[?25hCollecting gitpython<4,>=3.1.12\n",
            "\u001b[?25l  Downloading https://files.pythonhosted.org/packages/a6/99/98019716955ba243657daedd1de8f3a88ca1f5b75057c38e959db22fb87b/GitPython-3.1.14-py3-none-any.whl (159kB)\n",
            "\u001b[K     |████████████████████████████████| 163kB 31.2MB/s \n",
            "\u001b[?25hCollecting tqdm<5,>=4.56.0\n",
            "\u001b[?25l  Downloading https://files.pythonhosted.org/packages/72/8a/34efae5cf9924328a8f34eeb2fdaae14c011462d9f0e3fcded48e1266d1c/tqdm-4.60.0-py2.py3-none-any.whl (75kB)\n",
            "\u001b[K     |████████████████████████████████| 81kB 11.3MB/s \n",
            "\u001b[?25hCollecting requests<3,>=2.25.1\n",
            "\u001b[?25l  Downloading https://files.pythonhosted.org/packages/29/c1/24814557f1d22c56d50280771a17307e6bf87b70727d975fd6b2ce6b014a/requests-2.25.1-py2.py3-none-any.whl (61kB)\n",
            "\u001b[K     |████████████████████████████████| 61kB 9.2MB/s \n",
            "\u001b[?25hRequirement already satisfied: click<8,>=7.1.2 in /usr/local/lib/python3.7/dist-packages (from aicrowd-cli) (7.1.2)\n",
            "Collecting requests-toolbelt<1,>=0.9.1\n",
            "\u001b[?25l  Downloading https://files.pythonhosted.org/packages/60/ef/7681134338fc097acef8d9b2f8abe0458e4d87559c689a8c306d0957ece5/requests_toolbelt-0.9.1-py2.py3-none-any.whl (54kB)\n",
            "\u001b[K     |████████████████████████████████| 61kB 8.9MB/s \n",
            "\u001b[?25hRequirement already satisfied: toml<1,>=0.10.2 in /usr/local/lib/python3.7/dist-packages (from aicrowd-cli) (0.10.2)\n",
            "Requirement already satisfied: typing-extensions<4.0.0,>=3.7.4 in /usr/local/lib/python3.7/dist-packages (from rich<11,>=10.0.0->aicrowd-cli) (3.7.4.3)\n",
            "Collecting colorama<0.5.0,>=0.4.0\n",
            "  Downloading https://files.pythonhosted.org/packages/44/98/5b86278fbbf250d239ae0ecb724f8572af1c91f4a11edf4d36a206189440/colorama-0.4.4-py2.py3-none-any.whl\n",
            "Requirement already satisfied: pygments<3.0.0,>=2.6.0 in /usr/local/lib/python3.7/dist-packages (from rich<11,>=10.0.0->aicrowd-cli) (2.6.1)\n",
            "Collecting commonmark<0.10.0,>=0.9.0\n",
            "\u001b[?25l  Downloading https://files.pythonhosted.org/packages/b1/92/dfd892312d822f36c55366118b95d914e5f16de11044a27cf10a7d71bbbf/commonmark-0.9.1-py2.py3-none-any.whl (51kB)\n",
            "\u001b[K     |████████████████████████████████| 51kB 7.5MB/s \n",
            "\u001b[?25hCollecting gitdb<5,>=4.0.1\n",
            "\u001b[?25l  Downloading https://files.pythonhosted.org/packages/ea/e8/f414d1a4f0bbc668ed441f74f44c116d9816833a48bf81d22b697090dba8/gitdb-4.0.7-py3-none-any.whl (63kB)\n",
            "\u001b[K     |████████████████████████████████| 71kB 10.2MB/s \n",
            "\u001b[?25hRequirement already satisfied: chardet<5,>=3.0.2 in /usr/local/lib/python3.7/dist-packages (from requests<3,>=2.25.1->aicrowd-cli) (3.0.4)\n",
            "Requirement already satisfied: idna<3,>=2.5 in /usr/local/lib/python3.7/dist-packages (from requests<3,>=2.25.1->aicrowd-cli) (2.10)\n",
            "Requirement already satisfied: urllib3<1.27,>=1.21.1 in /usr/local/lib/python3.7/dist-packages (from requests<3,>=2.25.1->aicrowd-cli) (1.24.3)\n",
            "Requirement already satisfied: certifi>=2017.4.17 in /usr/local/lib/python3.7/dist-packages (from requests<3,>=2.25.1->aicrowd-cli) (2020.12.5)\n",
            "Collecting smmap<5,>=3.0.1\n",
            "  Downloading https://files.pythonhosted.org/packages/68/ee/d540eb5e5996eb81c26ceffac6ee49041d473bc5125f2aa995cf51ec1cf1/smmap-4.0.0-py2.py3-none-any.whl\n",
            "\u001b[31mERROR: google-colab 1.0.0 has requirement requests~=2.23.0, but you'll have requests 2.25.1 which is incompatible.\u001b[0m\n",
            "\u001b[31mERROR: datascience 0.10.6 has requirement folium==0.2.1, but you'll have folium 0.8.3 which is incompatible.\u001b[0m\n",
            "Installing collected packages: colorama, commonmark, rich, smmap, gitdb, gitpython, tqdm, requests, requests-toolbelt, aicrowd-cli\n",
            "  Found existing installation: tqdm 4.41.1\n",
            "    Uninstalling tqdm-4.41.1:\n",
            "      Successfully uninstalled tqdm-4.41.1\n",
            "  Found existing installation: requests 2.23.0\n",
            "    Uninstalling requests-2.23.0:\n",
            "      Successfully uninstalled requests-2.23.0\n",
            "Successfully installed aicrowd-cli-0.1.2 colorama-0.4.4 commonmark-0.9.1 gitdb-4.0.7 gitpython-3.1.14 requests-2.25.1 requests-toolbelt-0.9.1 rich-10.1.0 smmap-4.0.0 tqdm-4.60.0\n"
          ],
          "name": "stdout"
        }
      ]
    },
    {
      "cell_type": "markdown",
      "metadata": {
        "id": "D5L6NxEe_5TZ"
      },
      "source": [
        "## Download Data\n",
        "The first step is to download out train test data. We will be training a model on the train data and make predictions on test data. We submit our predictions.\n"
      ]
    },
    {
      "cell_type": "code",
      "metadata": {
        "colab": {
          "base_uri": "https://localhost:8080/"
        },
        "id": "lyF9gbdx_5TZ",
        "outputId": "27cf1a39-ab59-4b90-8153-c38313bbcbfe"
      },
      "source": [
        "API_KEY = \"fd1aed7204268f0bae2780fb808a4063\" #Please enter your API Key from [https://www.aicrowd.com/participants/me]\n",
        "!aicrowd login --api-key $API_KEY"
      ],
      "execution_count": 6,
      "outputs": [
        {
          "output_type": "stream",
          "text": [
            "/bin/bash: aicrowd: command not found\n"
          ],
          "name": "stdout"
        }
      ]
    },
    {
      "cell_type": "code",
      "metadata": {
        "id": "VkfgD-xrpwsp",
        "colab": {
          "base_uri": "https://localhost:8080/"
        },
        "outputId": "65e95d78-3114-4a60-9f68-0afc185cee98"
      },
      "source": [
        "from google.colab import drive\n",
        "drive.mount('/content/drive')"
      ],
      "execution_count": 3,
      "outputs": [
        {
          "output_type": "stream",
          "text": [
            "Mounted at /content/drive\n"
          ],
          "name": "stdout"
        }
      ]
    },
    {
      "cell_type": "code",
      "metadata": {
        "id": "hx8pHTHZ_5Ta"
      },
      "source": [
        "# !aicrowd dataset download --challenge chunin-exams-food-track-cv-2021"
      ],
      "execution_count": 8,
      "outputs": []
    },
    {
      "cell_type": "code",
      "metadata": {
        "id": "zaOJUEOppr_9"
      },
      "source": [
        "import os\n",
        "import csv\n",
        "import numpy as np\n",
        "import matplotlib.pyplot as plt\n",
        "\n",
        "import pandas as pd\n",
        "from cv2 import cv2\n",
        "from sklearn.model_selection import train_test_split\n",
        "\n",
        "import keras\n",
        "from keras.models import Sequential\n",
        "from keras.layers import Conv2D, MaxPooling2D, BatchNormalization\n",
        "from keras.layers import Activation, Dropout, Flatten, Dense,LeakyReLU\n",
        "from keras.preprocessing.image import ImageDataGenerator\n",
        "from keras.utils import to_categorical\n",
        "from IPython.display import clear_output"
      ],
      "execution_count": 1,
      "outputs": []
    },
    {
      "cell_type": "markdown",
      "metadata": {
        "id": "kV3xnW4Ypr_-"
      },
      "source": [
        "### Reading Dataset "
      ]
    },
    {
      "cell_type": "code",
      "metadata": {
        "id": "rK5AkKWDpr_-"
      },
      "source": [
        "\n",
        "def resize(image,dim=(150,150)):\n",
        "    return cv2.resize(image, dim, interpolation = cv2.INTER_AREA)\n",
        "\n",
        "def load_dataset(folder, csv_file  ):\n",
        "    \n",
        "    mydic = {}\n",
        "    with open(csv_file, mode='r') as infile:\n",
        "        reader = csv.reader(infile)\n",
        "        mydict = {rows[0]:rows[1] for rows in reader}\n",
        "    \n",
        "    y_train = []\n",
        "    x_train = []\n",
        "    count = 1500\n",
        "    for file in os.listdir(folder):\n",
        "        if True:\n",
        "          try:\n",
        "            # print(file)\n",
        "            y_train.append((mydict[file]))\n",
        "            x_train.append(resize(cv2.imread(folder+'/'+file)))\n",
        "            count -= 1\n",
        "          except KeyError:\n",
        "            continue\n",
        "          \n",
        "    # print(\"done\") \n",
        "    y_train = pd.DataFrame(y_train).astype('category')[0]\n",
        "    y_train = y_train.cat.codes\n",
        "    return x_train, y_train.to_numpy()\n",
        "\n",
        "def load_testdata(folder):\n",
        "  x_test = []\n",
        "  for file in os.listdir(folder):\n",
        "    print(file)\n",
        "    x_test.append(resize(cv2.imread(folder+'/'+file)))\n",
        "      \n",
        "\n",
        "def label_encode(y):\n",
        "  y = pd.DataFrame(y).astype('category')[0]\n",
        "  y = y.cat.codes\n",
        "  return y.to_numpy()  \n",
        "\n",
        "def get_labels(y_train,y_labels)\n",
        "  for i in range(len(y_train)):\n",
        "    y_train[i] = (y_labels[y_train[i]])"
      ],
      "execution_count": 1,
      "outputs": []
    },
    {
      "cell_type": "markdown",
      "metadata": {
        "id": "y-Za2b-bQxHG"
      },
      "source": [
        "## Part 2"
      ]
    },
    {
      "cell_type": "code",
      "metadata": {
        "id": "Hm8yR9sudJlD"
      },
      "source": [
        "X_train,y_train = load_dataset('/content/drive/MyDrive/Assignment5/train_images','/content/drive/MyDrive/Assignment5/train.csv')\n",
        "X_test = load_testdata('/content/drive/MyDrive/Assignment5/test_images')"
      ],
      "execution_count": null,
      "outputs": []
    },
    {
      "cell_type": "code",
      "metadata": {
        "id": "LcEQOtyAy4Mf"
      },
      "source": [
        "labels = (np.unique(y_train))\n",
        "y_train = label_encode(y_train)\n",
        "y_train = to_categorical(y_train)\n"
      ],
      "execution_count": 23,
      "outputs": []
    },
    {
      "cell_type": "markdown",
      "metadata": {
        "id": "YvggZEeAonB-"
      },
      "source": [
        "#### ResNet50"
      ]
    },
    {
      "cell_type": "code",
      "metadata": {
        "colab": {
          "base_uri": "https://localhost:8080/"
        },
        "id": "PHB3WmjZvrY6",
        "outputId": "2dfc4123-1197-4c63-8771-214284740b89"
      },
      "source": [
        "img = Input(shape = (150, 150)+(3,))\n",
        "model = ResNet50(\n",
        "    weights = 'imagenet',include_top = False,\n",
        "    input_tensor = img, pooling = 'max',classes=61)\n",
        "output_layer = Dense(61, activation = 'softmax')(model.layers[-1].output)\n",
        "model = Model(inputs=img, outputs=output_layer)\n",
        "\n",
        "model.compile(optimizer = 'adam',metrics = ['accuracy'], loss = \"sparse_categorical_crossentropy\")\n",
        "model.fit(X_train, y_train, epochs=20, validation_split=0.3) \n"
      ],
      "execution_count": null,
      "outputs": [
        {
          "output_type": "stream",
          "text": [
            "Epoch 1/20\n",
            "204/204 [==============================] - 71s 347ms/step - loss: 2.7403 - accuracy: 0.2884 - val_loss: 3.0704 - val_accuracy: 0.2646\n",
            "Epoch 2/20\n",
            "204/204 [==============================] - 71s 349ms/step - loss: 2.6237 - accuracy: 0.3062 - val_loss: 3.7055 - val_accuracy: 0.1194\n",
            "Epoch 3/20\n",
            "204/204 [==============================] - 72s 351ms/step - loss: 2.5312 - accuracy: 0.3235 - val_loss: 4.2843 - val_accuracy: 0.0883\n",
            "Epoch 4/20\n",
            "204/204 [==============================] - 72s 352ms/step - loss: 2.6729 - accuracy: 0.2979 - val_loss: 3.7927 - val_accuracy: 0.1198\n",
            "Epoch 5/20\n",
            "204/204 [==============================] - 72s 352ms/step - loss: 2.4197 - accuracy: 0.3500 - val_loss: 2.8806 - val_accuracy: 0.2703\n",
            "Epoch 6/20\n",
            "204/204 [==============================] - 72s 352ms/step - loss: 2.2483 - accuracy: 0.3817 - val_loss: 2.6362 - val_accuracy: 0.3085\n",
            "Epoch 7/20\n",
            "204/204 [==============================] - 72s 352ms/step - loss: 2.2358 - accuracy: 0.3950 - val_loss: 3.8049 - val_accuracy: 0.1423\n",
            "Epoch 8/20\n",
            "204/204 [==============================] - 72s 352ms/step - loss: 2.0151 - accuracy: 0.4367 - val_loss: 3.3062 - val_accuracy: 0.3279\n",
            "Epoch 9/20\n",
            "204/204 [==============================] - 72s 352ms/step - loss: 1.7335 - accuracy: 0.5044 - val_loss: 2.4615 - val_accuracy: 0.3565\n",
            "Epoch 10/20\n",
            "204/204 [==============================] - 72s 352ms/step - loss: 1.6457 - accuracy: 0.5219 - val_loss: 2.6282 - val_accuracy: 0.3279\n",
            "Epoch 11/20\n",
            "204/204 [==============================] - 72s 352ms/step - loss: 1.7460 - accuracy: 0.5038 - val_loss: 2.7508 - val_accuracy: 0.3296\n",
            "Epoch 12/20\n",
            "204/204 [==============================] - 72s 352ms/step - loss: 1.4364 - accuracy: 0.5745 - val_loss: 4.3023 - val_accuracy: 0.0997\n",
            "Epoch 13/20\n",
            "204/204 [==============================] - 72s 352ms/step - loss: 1.3014 - accuracy: 0.6128 - val_loss: 2.6845 - val_accuracy: 0.3321\n",
            "Epoch 14/20\n",
            "204/204 [==============================] - 72s 352ms/step - loss: 0.9783 - accuracy: 0.7050 - val_loss: 2.8452 - val_accuracy: 0.3357\n",
            "Epoch 15/20\n",
            "204/204 [==============================] - 72s 352ms/step - loss: 0.7975 - accuracy: 0.7619 - val_loss: 3.7379 - val_accuracy: 0.2757\n",
            "Epoch 16/20\n",
            "204/204 [==============================] - 72s 352ms/step - loss: 0.8205 - accuracy: 0.7576 - val_loss: 3.6816 - val_accuracy: 0.3225\n",
            "Epoch 17/20\n",
            "204/204 [==============================] - 72s 352ms/step - loss: 0.8653 - accuracy: 0.7427 - val_loss: 3.3419 - val_accuracy: 0.2553\n",
            "Epoch 18/20\n",
            "204/204 [==============================] - 72s 352ms/step - loss: 0.8188 - accuracy: 0.7599 - val_loss: 3.5628 - val_accuracy: 0.3386\n",
            "Epoch 19/20\n",
            "204/204 [==============================] - 72s 352ms/step - loss: 1.2621 - accuracy: 0.6329 - val_loss: 3.5494 - val_accuracy: 0.2749\n",
            "Epoch 20/20\n",
            "204/204 [==============================] - 72s 352ms/step - loss: 0.5187 - accuracy: 0.8498 - val_loss: 3.6360 - val_accuracy: 0.3071\n"
          ],
          "name": "stdout"
        }
      ]
    },
    {
      "cell_type": "code",
      "metadata": {
        "colab": {
          "base_uri": "https://localhost:8080/"
        },
        "id": "4E2eM3wYbomA",
        "outputId": "0428e784-5689-45be-d646-e69914eecd20"
      },
      "source": [
        "model.save(\"/content/drive/MyDrive/Assignment5/model\")"
      ],
      "execution_count": 30,
      "outputs": [
        {
          "output_type": "stream",
          "text": [
            "INFO:tensorflow:Assets written to: /content/drive/MyDrive/Assignment5/model/assets\n"
          ],
          "name": "stdout"
        }
      ]
    },
    {
      "cell_type": "code",
      "metadata": {
        "id": "8rl3FcnJaS-R"
      },
      "source": [
        "y_pred = model.predict(np.array(X_test))\n",
        "y_pred = (np.argmax(y_pred, axis = 1))\n",
        "\n",
        "y_pred = get_labels(y_pred,labels)\n"
      ],
      "execution_count": 28,
      "outputs": []
    },
    {
      "cell_type": "code",
      "metadata": {
        "id": "XKhQUEUuagW_"
      },
      "source": [
        "df_regressor = pd.DataFrame(y_pred, columns=['ClassName'])\n",
        "df_regressor.to_csv(\"/content/drive/MyDrive/Assignment5/submission.csv\")"
      ],
      "execution_count": 29,
      "outputs": []
    },
    {
      "cell_type": "code",
      "metadata": {
        "id": "sy2Sn0GaPRFF"
      },
      "source": [
        ""
      ],
      "execution_count": null,
      "outputs": []
    },
    {
      "cell_type": "code",
      "metadata": {
        "id": "DZjaTO4SPRIO"
      },
      "source": [
        ""
      ],
      "execution_count": null,
      "outputs": []
    },
    {
      "cell_type": "code",
      "metadata": {
        "id": "oHNtIAakPRNH"
      },
      "source": [
        ""
      ],
      "execution_count": null,
      "outputs": []
    },
    {
      "cell_type": "code",
      "metadata": {
        "id": "ojtsT3IQPRPm"
      },
      "source": [
        ""
      ],
      "execution_count": null,
      "outputs": []
    },
    {
      "cell_type": "code",
      "metadata": {
        "id": "cgYLOa2jACV3"
      },
      "source": [
        ""
      ],
      "execution_count": null,
      "outputs": []
    },
    {
      "cell_type": "markdown",
      "metadata": {
        "id": "5IX79Ffa_5Te"
      },
      "source": [
        "## Making Direct Submission thought Aicrowd CLI"
      ]
    },
    {
      "cell_type": "code",
      "metadata": {
        "colab": {
          "base_uri": "https://localhost:8080/"
        },
        "id": "-j1W9w4t_5Te",
        "outputId": "c0a9a039-1f79-49f6-9e87-7d7bc8ddc2e2"
      },
      "source": [
        "!aicrowd submission create -c chunin-exams-food-track-cv-2021 -f submission.csv"
      ],
      "execution_count": null,
      "outputs": [
        {
          "output_type": "stream",
          "text": [
            "\u001b[2K\u001b[1;34msubmission.csv\u001b[0m \u001b[90m━━━━━━━━━━━━━━━━━━━━━━\u001b[0m \u001b[35m100.0%\u001b[0m • \u001b[32m13.1/11.5 KB\u001b[0m • \u001b[31m1.4 MB/s\u001b[0m • \u001b[36m0:00:00\u001b[0m\n",
            "\u001b[?25h                                                 ╭─────────────────────────╮                                                  \n",
            "                                                 │ \u001b[1mSuccessfully submitted!\u001b[0m │                                                  \n",
            "                                                 ╰─────────────────────────╯                                                  \n",
            "\u001b[3m                                                       Important links                                                        \u001b[0m\n",
            "┌──────────────────┬─────────────────────────────────────────────────────────────────────────────────────────────────────────┐\n",
            "│  This submission │ https://www.aicrowd.com/challenges/ai-blitz-7/problems/stage-prediction/submissions/125933              │\n",
            "│                  │                                                                                                         │\n",
            "│  All submissions │ https://www.aicrowd.com/challenges/ai-blitz-7/problems/stage-prediction/submissions?my_submissions=true │\n",
            "│                  │                                                                                                         │\n",
            "│      Leaderboard │ https://www.aicrowd.com/challenges/ai-blitz-7/problems/stage-prediction/leaderboards                    │\n",
            "│                  │                                                                                                         │\n",
            "│ Discussion forum │ https://discourse.aicrowd.com/c/ai-blitz-7                                                              │\n",
            "│                  │                                                                                                         │\n",
            "│   Challenge page │ https://www.aicrowd.com/challenges/ai-blitz-7/problems/stage-prediction                                 │\n",
            "└──────────────────┴─────────────────────────────────────────────────────────────────────────────────────────────────────────┘\n",
            "{'submission_id': 125933, 'created_at': '2021-03-12T14:32:25.301Z'}\n"
          ],
          "name": "stdout"
        }
      ]
    }
  ]
}